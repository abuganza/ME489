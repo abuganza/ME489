{
 "cells": [
  {
   "cell_type": "code",
   "execution_count": 1,
   "metadata": {
    "collapsed": true
   },
   "outputs": [],
   "source": [
    "import numpy as np"
   ]
  },
  {
   "cell_type": "code",
   "execution_count": 2,
   "metadata": {
    "collapsed": true
   },
   "outputs": [],
   "source": [
    "def Area(x1,y1,x2,y2,x3,y3):\n",
    "    edge1 = np.array([x2-x1,y2-y1,0.])\n",
    "    edge2 = np.array([x3-x1,y3-y1,0.])\n",
    "    A_e = np.cross(edge1,edge2)\n",
    "    A_e = np.linalg.norm(A_e)/2.\n",
    "    return A_e"
   ]
  },
  {
   "cell_type": "code",
   "execution_count": 7,
   "metadata": {},
   "outputs": [
    {
     "name": "stdout",
     "output_type": "stream",
     "text": [
      "B\n",
      "[[-0.33333333  0.          0.33333333  0.          0.          0.        ]\n",
      " [ 0.         -0.33333333  0.          0.          0.          0.33333333]\n",
      " [-0.33333333 -0.33333333  0.          0.33333333  0.33333333  0.        ]]\n",
      "K without multiplying by (E/(1-nu**2))\n",
      "[[ 1.35  0.65 -1.   -0.35 -0.35 -0.3 ]\n",
      " [ 0.65  1.35 -0.3  -0.35 -0.35 -1.  ]\n",
      " [-1.   -0.3   1.    0.    0.    0.3 ]\n",
      " [-0.35 -0.35  0.    0.35  0.35  0.  ]\n",
      " [-0.35 -0.35  0.    0.35  0.35  0.  ]\n",
      " [-0.3  -1.    0.3   0.    0.    1.  ]]\n"
     ]
    }
   ],
   "source": [
    "node_X = np.array([[0.,0.],[3.,0.],[0.,3.]])\n",
    "elements = np.array([[1,2,3]])\n",
    "n_el = 1\n",
    "E = 3e11\n",
    "nu = 0.3\n",
    "for i in range(n_el):\n",
    "    x1 = node_X[elements[i,0]-1,0]\n",
    "    y1 = node_X[elements[i,0]-1,1]\n",
    "    x2 = node_X[elements[i,1]-1,0]\n",
    "    y2 = node_X[elements[i,1]-1,1]\n",
    "    x3 = node_X[elements[i,2]-1,0]\n",
    "    y3 = node_X[elements[i,2]-1,1]\n",
    "    Ae = Area(x1,y1,x2,y2,x3,y3)\n",
    "    B = (1./(2.*Ae))*np.array([[y2-y3,0,y3-y1,0,y1-y2,0],\n",
    "                               [0,x3-x2,0,x1-x3,0,x2-x1],\n",
    "                               [x3-x2,y2-y3,x1-x3,y3-y1,x2-x1,y1-y2]])\n",
    "    D = E/(1-nu**2)*np.array([[1.,nu,0.],[nu,1.,0.],[0.,0.,(1.-nu)/2.]])\n",
    "    Dstar = np.array([[1.,nu,0.],[nu,1.,0.],[0.,0.,(1.-nu)/2.]])\n",
    "    K = Ae*np.dot(B.transpose(),np.dot(D,B))\n",
    "    Kstar = Ae*np.dot(B.transpose(),np.dot(Dstar,B))\n",
    "    print('B')\n",
    "    print(B)\n",
    "    print('K without multiplying by (E/(1-nu**2))')\n",
    "    print(Kstar*2)\n",
    "    "
   ]
  },
  {
   "cell_type": "code",
   "execution_count": 4,
   "metadata": {},
   "outputs": [
    {
     "name": "stdout",
     "output_type": "stream",
     "text": [
      "[-0.5  -0.15  0.5   0.    0.    0.15]\n",
      "[-0.15 -0.5   0.15  0.    0.    0.5 ]\n",
      "Dispalcements\n"
     ]
    },
    {
     "data": {
      "text/plain": [
       "array([  1.05000000e-10,   1.05000000e-10])"
      ]
     },
     "execution_count": 4,
     "metadata": {},
     "output_type": "execute_result"
    }
   ],
   "source": [
    "# Only two equations are needed, those corresponding to u2x and u3y \n",
    "# equation for u2x\n",
    "print(Kstar[2,:])\n",
    "# equation for u3y\n",
    "print(Kstar[-1,:])\n",
    "# NOTE: you can tell from the problem statement that this should be a symmetric solution, i.e.\n",
    "# the displacement if u2x and u3y should be the same \n",
    "Ksmall = E/(1-nu**2)*np.array([[0.5,0.15],[0.15,0.5]])\n",
    "# The force vector is the integral of the traction over the boundary, \n",
    "# note here that the traction is constant, so you don't really need to do the integral, just multiply\n",
    "# by le/2 where le is the length of the edge \n",
    "force = np.array([45./2.,45./2.])\n",
    "print('Dispalcements')\n",
    "np.linalg.solve(Ksmall,force)"
   ]
  },
  {
   "cell_type": "code",
   "execution_count": null,
   "metadata": {
    "collapsed": true
   },
   "outputs": [],
   "source": []
  }
 ],
 "metadata": {
  "kernelspec": {
   "display_name": "Python 2",
   "language": "python",
   "name": "python2"
  },
  "language_info": {
   "codemirror_mode": {
    "name": "ipython",
    "version": 2
   },
   "file_extension": ".py",
   "mimetype": "text/x-python",
   "name": "python",
   "nbconvert_exporter": "python",
   "pygments_lexer": "ipython2",
   "version": "2.7.13"
  }
 },
 "nbformat": 4,
 "nbformat_minor": 2
}
