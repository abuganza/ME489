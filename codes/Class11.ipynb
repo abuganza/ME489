{
 "cells": [
  {
   "cell_type": "code",
   "execution_count": 23,
   "metadata": {},
   "outputs": [
    {
     "data": {
      "text/plain": [
       "u'%.5f'"
      ]
     },
     "execution_count": 23,
     "metadata": {},
     "output_type": "execute_result"
    }
   ],
   "source": [
    "import numpy as np\n",
    "import sympy as sp\n",
    "import matplotlib\n",
    "import random\n",
    "import matplotlib.pyplot as plt\n",
    "%matplotlib inline \n",
    "%precision 5"
   ]
  },
  {
   "cell_type": "code",
   "execution_count": 42,
   "metadata": {},
   "outputs": [
    {
     "data": {
      "text/plain": [
       "[<matplotlib.lines.Line2D at 0x1167f8650>]"
      ]
     },
     "execution_count": 42,
     "metadata": {},
     "output_type": "execute_result"
    },
    {
     "data": {
      "image/png": "[encoded data removed]",
      "text/plain": [
       "<matplotlib.figure.Figure at 0x116b87cd0>"
      ]
     },
     "metadata": {},
     "output_type": "display_data"
    }
   ],
   "source": [
    "## Refer to the problem defined in class\n",
    "\n",
    "# For this problem I know the analytical solution\n",
    "def u_exact(x):\n",
    "    u0 = 1e-3\n",
    "    return (1./3)*u0*((x-2)**2-1)\n",
    "\n",
    "def A(x):\n",
    "    A0 = 0.1\n",
    "    return -2*A0/(x-2)\n",
    "\n",
    "x_ls = np.linspace(0,1,100)\n",
    "#plt.plot(x_ls,u_exact(x_ls))\n",
    "plt.plot(x_ls,A(x_ls))"
   ]
  },
  {
   "cell_type": "code",
   "execution_count": 13,
   "metadata": {},
   "outputs": [
    {
     "name": "stdout",
     "output_type": "stream",
     "text": [
      "4000.0\n"
     ]
    }
   ],
   "source": [
    "# Some of the parameters (defined in the class notes)\n",
    "\n",
    "u0 = 1e-3\n",
    "A0 = 0.1\n",
    "E = 30e6\n",
    "P = (4./3)*u0*A0*E\n",
    "print(P)"
   ]
  },
  {
   "cell_type": "code",
   "execution_count": 24,
   "metadata": {},
   "outputs": [
    {
     "name": "stdout",
     "output_type": "stream",
     "text": [
      "[ 0.10556  0.11806  0.13393  0.15476  0.18333]\n",
      "[[ 27500000.      -27500000.              0.              0.              0.\n",
      "          0.     ]\n",
      " [-27500000.       50714285.71429 -23214285.71429         0.              0.\n",
      "          0.     ]\n",
      " [        0.      -23214285.71429  43303571.42857 -20089285.71429\n",
      "          0.              0.     ]\n",
      " [        0.              0.      -20089285.71429  37797619.04762\n",
      "  -17708333.33333         0.     ]\n",
      " [        0.              0.              0.      -17708333.33333\n",
      "   33541666.66667 -15833333.33333]\n",
      " [        0.              0.              0.              0.\n",
      "  -15833333.33333  15833333.33333]]\n"
     ]
    }
   ],
   "source": [
    "## Finite element solution\n",
    "\n",
    "# pre processing \n",
    "n_ele = 5\n",
    "n_node = 6\n",
    "node_X = np.array([1.,0.8,0.6,0.4,0.2,0.])\n",
    "elements = np.array([[6,5],[5,4],[4,3],[3,2],[2,1]])\n",
    "A_element = np.array([(A(0.)+A(0.2))/2,(A(0.2)+A(0.4))/2,(A(0.4)+A(0.6))/2,(A(0.6)+A(0.8))/2,(A(0.8)+A(1.))/2])\n",
    "print(A_element)\n",
    "\n",
    "# assemble global stiffness \n",
    "K = np.zeros((n_node,n_node))\n",
    "\n",
    "# Loop over elements \n",
    "for i in range(n_ele):\n",
    "    \n",
    "    # Beginning and end 'x' coordinates of this element \n",
    "    x1e = node_X[elements[i,0]-1]\n",
    "    x2e = node_X[elements[i,1]-1]\n",
    "    le = x2e-x1e \n",
    "    \n",
    "    # stiffness matrix for this element (already derived)\n",
    "    Ke = (A_element[i]*E/le)*np.array([[1.,-1],[-1.,1]])\n",
    "    \n",
    "    # Assemble into global stiffness \n",
    "    K[elements[i,0]-1,elements[i,0]-1] += Ke[0,0]\n",
    "    K[elements[i,0]-1,elements[i,1]-1] += Ke[0,1]\n",
    "    K[elements[i,1]-1,elements[i,0]-1] += Ke[1,0]\n",
    "    K[elements[i,1]-1,elements[i,1]-1] += Ke[1,1]\n",
    "\n",
    "print(K)"
   ]
  },
  {
   "cell_type": "code",
   "execution_count": 43,
   "metadata": {},
   "outputs": [
    {
     "name": "stdout",
     "output_type": "stream",
     "text": [
      "[ 0.       0.00015  0.00032  0.00052  0.00074  0.001  ]\n"
     ]
    }
   ],
   "source": [
    "# solve\n",
    "\n",
    "# solving the system with matrix partitioning \n",
    "n_E = 1 # the first node has an essential boundary condition\n",
    "n_F = 5 # the other 5 nodes are free\n",
    "K_E = K[0:n_E,0:n_E]\n",
    "K_F = K[n_E:,n_E:]\n",
    "K_EF = K[0:n_E,n_E:]\n",
    "# known displacement\n",
    "u_E = np.array([0.])\n",
    "# known external forces\n",
    "F_F = np.array([0.,0.,0.,0.,4000])\n",
    "# solving A\\b\n",
    "u_F = np.linalg.solve(K_F,F_F- np.dot(K_EF.transpose(),u_E))\n",
    "#print(u_F)\n",
    "# Assemble the vector with all degrees of fredom [u_E,u_F]\n",
    "u = np.zeros((n_node))\n",
    "u[0:n_E] = u_E\n",
    "u[n_E:] = u_F\n",
    "print(u)"
   ]
  },
  {
   "cell_type": "code",
   "execution_count": 26,
   "metadata": {
    "collapsed": true
   },
   "outputs": [],
   "source": [
    "# plot the interpolation\n",
    "## Define shape function\n",
    "def N1(x,x1e,x2e):\n",
    "    le = x2e-x1e\n",
    "    return (1./le)*(x2e-x)\n",
    "\n",
    "def N2(x,x1e,x2e):\n",
    "    le = x2e-x1e\n",
    "    return (1./le)*(x-x1e)"
   ]
  },
  {
   "cell_type": "code",
   "execution_count": 44,
   "metadata": {},
   "outputs": [
    {
     "data": {
      "text/plain": [
       "[<matplotlib.lines.Line2D at 0x116270450>]"
      ]
     },
     "execution_count": 44,
     "metadata": {},
     "output_type": "execute_result"
    },
    {
     "data": {
      "image/png": "[encoded data removed]",
      "text/plain": [
       "<matplotlib.figure.Figure at 0x116b74710>"
      ]
     },
     "metadata": {},
     "output_type": "display_data"
    }
   ],
   "source": [
    "# Loop over elements \n",
    "for i in range(n_ele):\n",
    "    \n",
    "    # Beginning and end 'x' coordinates of this element \n",
    "    x1e = node_X[elements[i,0]-1]\n",
    "    x2e = node_X[elements[i,1]-1]\n",
    "    \n",
    "    # Nodal values of the function 'u'\n",
    "    u1e = d[elements[i,0]-1]\n",
    "    u2e = d[elements[i,1]-1]\n",
    "    \n",
    "    # Eval the shape function evaluation for multiple x\n",
    "    x_vec = np.linspace(x1e,x2e,50)\n",
    "    u_vec = N1(x_vec,x1e,x2e)*u1e + N2(x_vec,x1e,x2e)*u2e\n",
    "    \n",
    "    # plot\n",
    "    plt.plot(x_vec,u_vec,zorder=0)\n",
    "\n",
    "plt.plot(x_ls,u_exact(x_ls),'--',zorder=1,color='black')"
   ]
  },
  {
   "cell_type": "code",
   "execution_count": null,
   "metadata": {
    "collapsed": true
   },
   "outputs": [],
   "source": []
  }
 ],
 "metadata": {
  "kernelspec": {
   "display_name": "Python 2",
   "language": "python",
   "name": "python2"
  },
  "language_info": {
   "codemirror_mode": {
    "name": "ipython",
    "version": 2
   },
   "file_extension": ".py",
   "mimetype": "text/x-python",
   "name": "python",
   "nbconvert_exporter": "python",
   "pygments_lexer": "ipython2",
   "version": "2.7.13"
  }
 },
 "nbformat": 4,
 "nbformat_minor": 2
}
