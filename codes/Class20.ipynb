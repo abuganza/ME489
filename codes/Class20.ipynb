{
 "cells": [
  {
   "cell_type": "code",
   "execution_count": 2,
   "metadata": {},
   "outputs": [
    {
     "data": {
      "text/plain": [
       "u'%.5f'"
      ]
     },
     "execution_count": 2,
     "metadata": {},
     "output_type": "execute_result"
    }
   ],
   "source": [
    "import numpy as np\n",
    "import sympy as sp\n",
    "import matplotlib\n",
    "import random\n",
    "import matplotlib.pyplot as plt\n",
    "import matplotlib.tri as mtri\n",
    "%matplotlib inline \n",
    "%precision 5"
   ]
  },
  {
   "cell_type": "code",
   "execution_count": 35,
   "metadata": {},
   "outputs": [
    {
     "name": "stdout",
     "output_type": "stream",
     "text": [
      "[[ 0.  0.]\n",
      " [ 0.  1.]\n",
      " [ 0.  3.]\n",
      " [ 0.  4.]\n",
      " [ 2.  0.]\n",
      " [ 1.  1.]\n",
      " [ 3.  2.]\n",
      " [ 2.  2.]\n",
      " [ 2.  4.]\n",
      " [ 1.  3.]]\n",
      "[[ 1  6  2]\n",
      " [ 1  5  6]\n",
      " [ 5  8  6]\n",
      " [ 5  7  8]\n",
      " [ 7  9  8]\n",
      " [ 9 10  8]\n",
      " [ 9  4 10]\n",
      " [10  4  3]]\n"
     ]
    }
   ],
   "source": [
    "## Read in a mesh \n",
    "meshfile = open(\"pipe_mesh.txt\",'r').readlines()\n",
    "n_node = int(meshfile[1])\n",
    "node_X = np.zeros((n_node,2))\n",
    "for i in range(n_node):\n",
    "    aux = meshfile[2+i].split()\n",
    "    node_X[i,0] = float(aux[0])\n",
    "    node_X[i,1] = float(aux[1])\n",
    "n_elem = int(meshfile[3+n_node])\n",
    "elements = np.zeros((n_elem,3),dtype=int)\n",
    "for i in range(n_elem):\n",
    "    aux = meshfile[4+n_node+i].split()\n",
    "    elements[i,0] = int(aux[0])\n",
    "    elements[i,1] = int(aux[1])\n",
    "    elements[i,2] = int(aux[2])\n",
    "print(node_X)\n",
    "print(elements)"
   ]
  },
  {
   "cell_type": "code",
   "execution_count": 30,
   "metadata": {},
   "outputs": [],
   "source": [
    "## To build the global stiffness matrix I need to have a function for the \n",
    "## gradient of shape functions\n",
    "\n",
    "def Gradient_N1(x1,y1,x2,y2,x3,y3):\n",
    "    \n",
    "    edge1 = np.array([x2-x1,y2-y1,0.])\n",
    "    edge2 = np.array([x3-x1,y3-y1,0.])\n",
    "    A_e = np.cross(edge1,edge2)\n",
    "    A_e = np.linalg.norm(A_e)/2.\n",
    "    \n",
    "    dN1dx = (1./(2*A_e))*(y2-y3)\n",
    "    dN1dy = (1./(2*A_e))*(x3-x2)\n",
    "    \n",
    "    return np.array([dN1dx,dN1dy])\n",
    "\n",
    "def Gradient_N2(x1,y1,x2,y2,x3,y3):\n",
    "    edge1 = np.array([x2-x1,y2-y1,0.])\n",
    "    edge2 = np.array([x3-x1,y3-y1,0.])\n",
    "    A_e = np.cross(edge1,edge2)\n",
    "    A_e = np.linalg.norm(A_e)/2.\n",
    "    \n",
    "    dN2dx = (1./(2*A_e))*(y3-y1)\n",
    "    dN2dy = (1./(2*A_e))*(x1-x3)\n",
    "    \n",
    "    return np.array([dN2dx,dN2dy])\n",
    "\n",
    "def Gradient_N3(x1,y1,x2,y2,x3,y3):\n",
    "    edge1 = np.array([x2-x1,y2-y1,0.])\n",
    "    edge2 = np.array([x3-x1,y3-y1,0.])\n",
    "    A_e = np.cross(edge1,edge2)\n",
    "    A_e = np.linalg.norm(A_e)/2.\n",
    "    \n",
    "    dN3dx = (1./(2*A_e))*(y1-y2)\n",
    "    dN3dy = (1./(2*A_e))*(x2-x1)\n",
    "    return np.array([dN3dx,dN3dy])\n",
    "\n",
    "def Area(x1,y1,x2,y2,x3,y3):\n",
    "    edge1 = np.array([x2-x1,y2-y1,0.])\n",
    "    edge2 = np.array([x3-x1,y3-y1,0.])\n",
    "    A_e = np.cross(edge1,edge2)\n",
    "    A_e = np.linalg.norm(A_e)/2.\n",
    "    return A_e\n",
    "    "
   ]
  },
  {
   "cell_type": "code",
   "execution_count": 31,
   "metadata": {},
   "outputs": [],
   "source": [
    "## Build global stiffness\n",
    "K = np.zeros((n_node,n_node))\n",
    "## Loop over elements\n",
    "for i in range(n_elem):\n",
    "    # Get the nodes making up this element\n",
    "    node1 = elements[i,0]-1 # the -1 is because indices start from 0\n",
    "    node2 = elements[i,1]-1 # the -1 is because indices start from 0\n",
    "    node3 = elements[i,2]-1 # the -1 is because indices start from 0\n",
    "    # Get the coordinates of the triangle\n",
    "    x1 = node_X[node1,0]\n",
    "    y1 = node_X[node1,1]\n",
    "    x2 = node_X[node2,0]\n",
    "    y2 = node_X[node2,1]\n",
    "    x3 = node_X[node3,0]\n",
    "    y3 = node_X[node3,1]\n",
    "    # Call function to evaluate the gradient of shape functions \n",
    "    GradN1e = Gradient_N1(x1,y1,x2,y2,x3,y3)\n",
    "    GradN2e = Gradient_N2(x1,y1,x2,y2,x3,y3)\n",
    "    GradN3e = Gradient_N3(x1,y1,x2,y2,x3,y3)\n",
    "    # Build the element stiffness \n",
    "    A_e = Area(x1,y1,x2,y2,x3,y3)\n",
    "    Ke = A_e*np.array([[np.dot(GradN1e,GradN1e),np.dot(GradN1e,GradN2e),np.dot(GradN1e,GradN3e)],\n",
    "                   [np.dot(GradN2e,GradN1e),np.dot(GradN2e,GradN2e),np.dot(GradN2e,GradN3e)],\n",
    "                   [np.dot(GradN3e,GradN1e),np.dot(GradN3e,GradN2e),np.dot(GradN3e,GradN3e)]])\n",
    "    #print(Ke)\n",
    "    # Assemble into the global stiffness \n",
    "    K[node1,node1] += Ke[0,0]\n",
    "    K[node1,node2] += Ke[0,1]\n",
    "    K[node1,node3] += Ke[0,2]\n",
    "    K[node2,node1] += Ke[1,0]\n",
    "    K[node2,node2] += Ke[1,1]\n",
    "    K[node2,node3] += Ke[1,2]\n",
    "    K[node3,node1] += Ke[2,0]\n",
    "    K[node3,node2] += Ke[2,1]\n",
    "    K[node3,node3] += Ke[2,2]"
   ]
  },
  {
   "cell_type": "code",
   "execution_count": 32,
   "metadata": {},
   "outputs": [
    {
     "name": "stdout",
     "output_type": "stream",
     "text": [
      "K_E\n",
      "[[ 1.  -0.5  0.   0. ]\n",
      " [-0.5  1.   0.   0. ]\n",
      " [ 0.   0.   1.  -0.5]\n",
      " [ 0.   0.  -0.5  1. ]]\n",
      "K_F\n",
      "[[ 1.25 -1.    0.   -0.25  0.    0.  ]\n",
      " [-1.    2.5   0.   -0.5   0.    0.  ]\n",
      " [ 0.    0.    2.   -2.    0.    0.  ]\n",
      " [-0.25 -0.5  -2.    3.5  -0.25 -0.5 ]\n",
      " [ 0.    0.    0.   -0.25  1.25 -1.  ]\n",
      " [ 0.    0.    0.   -0.5  -1.    2.5 ]]\n",
      "K_EF\n",
      "[[ 0.  -0.5  0.   0.   0.   0. ]\n",
      " [ 0.  -0.5  0.   0.   0.   0. ]\n",
      " [ 0.   0.   0.   0.   0.  -0.5]\n",
      " [ 0.   0.   0.   0.   0.  -0.5]]\n"
     ]
    }
   ],
   "source": [
    "## Partition and solve\n",
    "# solving the system with matrix partitioning, partion the K\n",
    "n_E = 4\n",
    "n_F = n_node-4\n",
    "K_E = K[0:n_E,0:n_E]\n",
    "K_F = K[n_E:,n_E:]\n",
    "K_EF = K[0:n_E,n_E:]\n",
    "print('K_E')\n",
    "print(K_E)\n",
    "print('K_F')\n",
    "print(K_F)\n",
    "print('K_EF')\n",
    "print(K_EF)"
   ]
  },
  {
   "cell_type": "code",
   "execution_count": 33,
   "metadata": {},
   "outputs": [
    {
     "name": "stdout",
     "output_type": "stream",
     "text": [
      "[   0.         0.       100.       100.        26.47059   20.58824   50.\n",
      "   50.        73.52941   79.41176]\n"
     ]
    }
   ],
   "source": [
    "# known temperature\n",
    "d_E = np.array([0.,0.,100.,100.])\n",
    "# known external forces\n",
    "F_F = np.zeros((n_F))\n",
    "# solving A\\b\n",
    "d_F = np.linalg.solve(K_F,F_F- np.dot(K_EF.transpose(),d_E))\n",
    "#print(d_F)\n",
    "# Assemble into a single vector\n",
    "d = np.zeros((n_node))\n",
    "d[:n_E] = d_E\n",
    "d[n_E:] = d_F\n",
    "print(d)"
   ]
  },
  {
   "cell_type": "code",
   "execution_count": null,
   "metadata": {},
   "outputs": [],
   "source": []
  },
  {
   "cell_type": "code",
   "execution_count": 34,
   "metadata": {},
   "outputs": [
    {
     "data": {
      "text/plain": [
       "<matplotlib.colorbar.Colorbar at 0x10e42b250>"
      ]
     },
     "execution_count": 34,
     "metadata": {},
     "output_type": "execute_result"
    },
    {
     "data": {
      "image/png": "[encoded data removed]",
      "text/plain": [
       "<matplotlib.figure.Figure at 0x10e2ade10>"
      ]
     },
     "metadata": {},
     "output_type": "display_data"
    }
   ],
   "source": [
    "plt.figure()\n",
    "plt.gca().set_aspect('equal')\n",
    "plt.tricontourf(node_X[:,0],node_X[:,1] , elements-1, d)\n",
    "plt.colorbar()"
   ]
  },
  {
   "cell_type": "code",
   "execution_count": null,
   "metadata": {
    "collapsed": true
   },
   "outputs": [],
   "source": []
  }
 ],
 "metadata": {
  "kernelspec": {
   "display_name": "Python 2",
   "language": "python",
   "name": "python2"
  },
  "language_info": {
   "codemirror_mode": {
    "name": "ipython",
    "version": 2
   },
   "file_extension": ".py",
   "mimetype": "text/x-python",
   "name": "python",
   "nbconvert_exporter": "python",
   "pygments_lexer": "ipython2",
   "version": "2.7.13"
  }
 },
 "nbformat": 4,
 "nbformat_minor": 2
}
