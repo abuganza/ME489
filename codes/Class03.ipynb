{
 "cells": [
  {
   "cell_type": "code",
   "execution_count": 1,
   "metadata": {
    "collapsed": true
   },
   "outputs": [],
   "source": [
    "import numpy as np\n",
    "import copy"
   ]
  },
  {
   "cell_type": "code",
   "execution_count": 2,
   "metadata": {
    "collapsed": true
   },
   "outputs": [],
   "source": [
    "## Element stiffness matrix\n",
    "\n",
    "## element 1\n",
    "ke1 = 1.0\n",
    "Ke1 = ke1*np.array([[1,-1],[-1,1]])\n",
    "\n",
    "## element 1\n",
    "ke2 = 2.0\n",
    "Ke2 = ke2*np.array([[1,-1],[-1,1]])\n"
   ]
  },
  {
   "cell_type": "code",
   "execution_count": 5,
   "metadata": {},
   "outputs": [
    {
     "name": "stdout",
     "output_type": "stream",
     "text": [
      "[[ 2. -2.  0.]\n",
      " [-2.  3. -1.]\n",
      " [ 0. -1.  1.]]\n",
      "[[ 2. -2.  0.]\n",
      " [-2.  3. -1.]\n",
      " [ 0. -1.  1.]]\n"
     ]
    }
   ],
   "source": [
    "## Global stiffness matrix \n",
    "\n",
    "## approach 1, gather matrices \n",
    "Le1 = np.array([[0,0,1],[0,1,0]])\n",
    "Le2 = np.array([[0,1,0],[1,0,0]])\n",
    "\n",
    "K = np.dot(Le1.transpose(),np.dot(Ke1,Le1)) + np.dot(Le2.transpose(),np.dot(Ke2,Le2))\n",
    "print(K)\n",
    "\n",
    "## approach 2, direct assembly\n",
    "# connectivity array \n",
    "elements = np.array([[3,2],[2,1]])\n",
    "# array of stiffness matrices\n",
    "Ke_array = [Ke1,Ke2]\n",
    "n_el = 2\n",
    "# be careful with numbering between matlab and python\n",
    "K_v2 = np.zeros((3,3))\n",
    "for i in range(n_el):\n",
    "    K_v2[elements[i,0]-1,elements[i,0]-1] += Ke_array[i][0,0]\n",
    "    K_v2[elements[i,0]-1,elements[i,1]-1] += Ke_array[i][0,1]\n",
    "    K_v2[elements[i,1]-1,elements[i,0]-1] += Ke_array[i][1,0]\n",
    "    K_v2[elements[i,1]-1,elements[i,1]-1] += Ke_array[i][1,1]\n",
    "print(K_v2)\n",
    "\n",
    "## approach 3, scatter matrices and assemble\n",
    "# difficult to program unless nodes are consecutively number for an element\n",
    "# ends up looking similar to the direct assembly "
   ]
  },
  {
   "cell_type": "code",
   "execution_count": 9,
   "metadata": {
    "collapsed": true
   },
   "outputs": [],
   "source": [
    "## solving also different approaches\n",
    "\n",
    "## approach 1, get rid of one equation\n",
    "Kmod = copy.deepcopy(K)\n",
    "Kmod[0,0]=1\n",
    "Kmod[0,1]=0\n",
    "f1 = 10\n",
    "f2 = 5\n",
    "u1bar = 1\n",
    "F = np.array([1,10,5])"
   ]
  },
  {
   "cell_type": "code",
   "execution_count": 10,
   "metadata": {},
   "outputs": [
    {
     "data": {
      "text/plain": [
       "array([  1. ,   8.5,  13.5])"
      ]
     },
     "execution_count": 10,
     "metadata": {},
     "output_type": "execute_result"
    }
   ],
   "source": [
    "np.linalg.solve(Kmod,F)"
   ]
  },
  {
   "cell_type": "code",
   "execution_count": 11,
   "metadata": {},
   "outputs": [
    {
     "data": {
      "text/plain": [
       "array([  1. ,   8.5,  13.5])"
      ]
     },
     "execution_count": 11,
     "metadata": {},
     "output_type": "execute_result"
    }
   ],
   "source": [
    "## approach 1.2, you can also modify the correspondng column \n",
    "F[1] -= u1bar*Kmod[1,0]\n",
    "Kmod[1,0] = 0\n",
    "np.linalg.solve(Kmod,F)"
   ]
  },
  {
   "cell_type": "code",
   "execution_count": 12,
   "metadata": {},
   "outputs": [
    {
     "data": {
      "text/plain": [
       "array([  1.00000085,   8.50000085,  13.50000085])"
      ]
     },
     "execution_count": 12,
     "metadata": {},
     "output_type": "execute_result"
    }
   ],
   "source": [
    "## approach 2, penalty method \n",
    "Kmod2 = copy.deepcopy(K)\n",
    "beta = 1e7*(Kmod2[0,0]+Kmod2[1,1]+Kmod2[2,2])/3.\n",
    "Kmod2[0,0] = beta\n",
    "F = np.array([beta*u1bar,10,5])\n",
    "np.linalg.solve(Kmod2,F)"
   ]
  },
  {
   "cell_type": "code",
   "execution_count": 13,
   "metadata": {},
   "outputs": [
    {
     "data": {
      "text/plain": [
       "array([  8.5,  13.5])"
      ]
     },
     "execution_count": 13,
     "metadata": {},
     "output_type": "execute_result"
    }
   ],
   "source": [
    "## approach 3, block matrices\n",
    "K_F = K[1:3,1:3]\n",
    "F_F = np.array([10,5])\n",
    "K_EF = K[0,1:3]\n",
    "np.linalg.solve(K_F,F_F-u1bar*K_EF)"
   ]
  },
  {
   "cell_type": "code",
   "execution_count": null,
   "metadata": {
    "collapsed": true
   },
   "outputs": [],
   "source": []
  }
 ],
 "metadata": {
  "kernelspec": {
   "display_name": "Python 2",
   "language": "python",
   "name": "python2"
  },
  "language_info": {
   "codemirror_mode": {
    "name": "ipython",
    "version": 2
   },
   "file_extension": ".py",
   "mimetype": "text/x-python",
   "name": "python",
   "nbconvert_exporter": "python",
   "pygments_lexer": "ipython2",
   "version": "2.7.13"
  }
 },
 "nbformat": 4,
 "nbformat_minor": 2
}
