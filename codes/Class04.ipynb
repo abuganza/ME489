{
 "cells": [
  {
   "cell_type": "code",
   "execution_count": 19,
   "metadata": {
    "collapsed": true
   },
   "outputs": [],
   "source": [
    "import numpy as np"
   ]
  },
  {
   "cell_type": "code",
   "execution_count": 6,
   "metadata": {},
   "outputs": [
    {
     "name": "stdout",
     "output_type": "stream",
     "text": [
      "K: global stiffness\n",
      "[[ 5.   0.  -5. ]\n",
      " [ 0.   1.5 -1.5]\n",
      " [-5.  -1.5  6.5]]\n"
     ]
    }
   ],
   "source": [
    "## EXAMPLE 1\n",
    "# number of elements and nodes\n",
    "n_el = 3\n",
    "n_node = 3\n",
    "## connectivity: which nodes form each element\n",
    "elements = np.array([[1,3],[1,3],[2,3]])\n",
    "## parameters are stiffness for each element (arbitrary, just to show)\n",
    "k1 = 3.\n",
    "k2 = 2.\n",
    "k3 = 1.5\n",
    "stiffness_vec = np.array([k1,k2,k3])\n",
    "# array of stiffness matrices\n",
    "Ke_array = []\n",
    "for i in range(n_el):\n",
    "    Ke = np.array([[stiffness_vec[i],-stiffness_vec[i]],[-stiffness_vec[i],stiffness_vec[i]]])\n",
    "    Ke_array.append(Ke)\n",
    "# assemble global stiffness\n",
    "# be careful with numbering between matlab and python\n",
    "K = np.zeros((n_node,n_node))\n",
    "for i in range(n_el):\n",
    "    K[elements[i,0]-1,elements[i,0]-1] += Ke_array[i][0,0]\n",
    "    K[elements[i,0]-1,elements[i,1]-1] += Ke_array[i][0,1]\n",
    "    K[elements[i,1]-1,elements[i,0]-1] += Ke_array[i][1,0]\n",
    "    K[elements[i,1]-1,elements[i,1]-1] += Ke_array[i][1,1]\n",
    "print('K: global stiffness')\n",
    "print(K)\n"
   ]
  },
  {
   "cell_type": "code",
   "execution_count": 23,
   "metadata": {},
   "outputs": [
    {
     "name": "stdout",
     "output_type": "stream",
     "text": [
      "[[  6.   0.  -2.  -4.]\n",
      " [  0.   8.  -6.  -2.]\n",
      " [ -2.  -6.  14.  -6.]\n",
      " [ -4.  -2.  -6.  12.]]\n"
     ]
    }
   ],
   "source": [
    "## EXAMPLE 2\n",
    "# number of elements and nodes\n",
    "n_el = 5\n",
    "n_node = 4\n",
    "## connectivity: which nodes form each element\n",
    "elements = np.array([[1,4],[4,2],[1,3],[4,3],[3,2]])\n",
    "## parameters are stiffness for each element (arbitrary, just to show)\n",
    "# stiffness_vec = np.array([k1,k2,k3,k4,k5])\n",
    "stiffness_vec = 2.*np.array([2.0,1.0,1.,3.,3.])\n",
    "# array of stiffness matrices for each element\n",
    "Ke_array = []\n",
    "# for loop over elements\n",
    "for i in range(n_el):\n",
    "    Ke = np.array([[stiffness_vec[i],-stiffness_vec[i]],[-stiffness_vec[i],stiffness_vec[i]]])\n",
    "    Ke_array.append(Ke)\n",
    "# assemble global stiffness\n",
    "# be careful with numbering between matlab and python\n",
    "K = np.zeros((n_node,n_node))\n",
    "# loop over elements\n",
    "for i in range(n_el):\n",
    "    K[elements[i,0]-1,elements[i,0]-1] += Ke_array[i][0,0]\n",
    "    K[elements[i,0]-1,elements[i,1]-1] += Ke_array[i][0,1]\n",
    "    K[elements[i,1]-1,elements[i,0]-1] += Ke_array[i][1,0]\n",
    "    K[elements[i,1]-1,elements[i,1]-1] += Ke_array[i][1,1]\n",
    "print(K)"
   ]
  },
  {
   "cell_type": "code",
   "execution_count": 24,
   "metadata": {},
   "outputs": [
    {
     "name": "stdout",
     "output_type": "stream",
     "text": [
      "K_E\n",
      "[[ 6.  0.]\n",
      " [ 0.  8.]]\n",
      "K_F\n",
      "[[ 14.  -6.]\n",
      " [ -6.  12.]]\n",
      "K_EF\n",
      "[[-2. -4.]\n",
      " [-6. -2.]]\n"
     ]
    }
   ],
   "source": [
    "# solving the system with matrix partitioning \n",
    "n_E = 2\n",
    "n_F = 2\n",
    "K_E = K[0:n_E,0:n_E]\n",
    "K_F = K[n_E:,n_E:]\n",
    "K_EF = K[0:n_E,n_E:]\n",
    "print('K_E')\n",
    "print(K_E)\n",
    "print('K_F')\n",
    "print(K_F)\n",
    "print('K_EF')\n",
    "print(K_EF)"
   ]
  },
  {
   "cell_type": "code",
   "execution_count": 25,
   "metadata": {},
   "outputs": [
    {
     "data": {
      "text/plain": [
       "array([ 1.27272727,  0.96969697])"
      ]
     },
     "execution_count": 25,
     "metadata": {},
     "output_type": "execute_result"
    }
   ],
   "source": [
    "# known displacement\n",
    "d_E = np.array([0.,2.])\n",
    "# known external forces\n",
    "F_F = np.array([0.,0.])\n",
    "# solving A\\b\n",
    "np.linalg.solve(K_F,F_F- np.dot(K_EF.transpose(),d_E))"
   ]
  },
  {
   "cell_type": "code",
   "execution_count": 13,
   "metadata": {},
   "outputs": [
    {
     "name": "stdout",
     "output_type": "stream",
     "text": [
      "[[ 18.33333333   0.         -18.33333333]\n",
      " [  0.           5.          -5.        ]\n",
      " [-18.33333333  -5.          23.33333333]]\n"
     ]
    }
   ],
   "source": [
    "## EXAMPLE 2\n",
    "# number of elements and nodes\n",
    "n_el = 3\n",
    "n_node = 3\n",
    "## connectivity: which nodes form each element\n",
    "elements = np.array([[1,3],[3,2],[1,3]])\n",
    "## parameters are stiffness for each element (arbitrary, just to show)\n",
    "# stiffness_vec = np.array([k1,k2,k3,k4,k5])\n",
    "stiffness_vec = np.array([15.0,5.0,1./(1./5.+1./10.)])\n",
    "# array of stiffness matrices for each element\n",
    "Ke_array = []\n",
    "# for loop over elements\n",
    "for i in range(n_el):\n",
    "    Ke = np.array([[stiffness_vec[i],-stiffness_vec[i]],[-stiffness_vec[i],stiffness_vec[i]]])\n",
    "    Ke_array.append(Ke)\n",
    "# assemble global stiffness\n",
    "# be careful with numbering between matlab and python\n",
    "K = np.zeros((n_node,n_node))\n",
    "# loop over elements\n",
    "for i in range(n_el):\n",
    "    K[elements[i,0]-1,elements[i,0]-1] += Ke_array[i][0,0]\n",
    "    K[elements[i,0]-1,elements[i,1]-1] += Ke_array[i][0,1]\n",
    "    K[elements[i,1]-1,elements[i,0]-1] += Ke_array[i][1,0]\n",
    "    K[elements[i,1]-1,elements[i,1]-1] += Ke_array[i][1,1]\n",
    "print(K)"
   ]
  },
  {
   "cell_type": "code",
   "execution_count": 14,
   "metadata": {},
   "outputs": [
    {
     "name": "stdout",
     "output_type": "stream",
     "text": [
      "K_E\n",
      "[[ 18.33333333   0.        ]\n",
      " [  0.           5.        ]]\n",
      "K_F\n",
      "[[ 23.33333333]]\n",
      "K_EF\n",
      "[[-18.33333333]\n",
      " [ -5.        ]]\n"
     ]
    }
   ],
   "source": [
    "# solving the system with matrix partitioning \n",
    "n_E = 2\n",
    "n_F = 1\n",
    "K_E = K[0:n_E,0:n_E]\n",
    "K_F = K[n_E:,n_E:]\n",
    "K_EF = K[0:n_E,n_E:]\n",
    "print('K_E')\n",
    "print(K_E)\n",
    "print('K_F')\n",
    "print(K_F)\n",
    "print('K_EF')\n",
    "print(K_EF)"
   ]
  },
  {
   "cell_type": "code",
   "execution_count": 15,
   "metadata": {},
   "outputs": [
    {
     "data": {
      "text/plain": [
       "array([ 2.14285714])"
      ]
     },
     "execution_count": 15,
     "metadata": {},
     "output_type": "execute_result"
    }
   ],
   "source": [
    "# known displacement\n",
    "d_E = np.array([0.,0.])\n",
    "# known external forces\n",
    "F_F = np.array([50.])\n",
    "# solving A\\b\n",
    "np.linalg.solve(K_F,F_F- np.dot(K_EF.transpose(),d_E))"
   ]
  },
  {
   "cell_type": "code",
   "execution_count": null,
   "metadata": {
    "collapsed": true
   },
   "outputs": [],
   "source": [
    "F = np.zeros((n_node*2))\n",
    "## add forces \n",
    "node_i = 5\n",
    "F[(node_i-1)*2+0] = # X-force for node i \n",
    "F[(node_i-1)*2+1] = # X-force for node i \n",
    "\n",
    "F_F = F[n_E:]"
   ]
  },
  {
   "cell_type": "code",
   "execution_count": null,
   "metadata": {
    "collapsed": true
   },
   "outputs": [],
   "source": []
  }
 ],
 "metadata": {
  "kernelspec": {
   "display_name": "Python 2",
   "language": "python",
   "name": "python2"
  },
  "language_info": {
   "codemirror_mode": {
    "name": "ipython",
    "version": 2
   },
   "file_extension": ".py",
   "mimetype": "text/x-python",
   "name": "python",
   "nbconvert_exporter": "python",
   "pygments_lexer": "ipython2",
   "version": "2.7.13"
  }
 },
 "nbformat": 4,
 "nbformat_minor": 2
}
