{
 "cells": [
  {
   "cell_type": "code",
   "execution_count": 1,
   "metadata": {},
   "outputs": [
    {
     "data": {
      "text/plain": [
       "u'%.5f'"
      ]
     },
     "execution_count": 1,
     "metadata": {},
     "output_type": "execute_result"
    }
   ],
   "source": [
    "import numpy as np\n",
    "import sympy as sp\n",
    "import matplotlib\n",
    "import random\n",
    "import matplotlib.pyplot as plt\n",
    "%matplotlib inline \n",
    "%precision 5"
   ]
  },
  {
   "cell_type": "code",
   "execution_count": 2,
   "metadata": {
    "collapsed": true
   },
   "outputs": [],
   "source": [
    "## For the integration of the source term, \n",
    "## the source term function and shape function definitions are needed\n",
    "\n",
    "# Shape functions in terms of the variable xi in [-1,1]\n",
    "def N1(xi):\n",
    "    return (1.-xi)/2.\n",
    "\n",
    "def N2(xi):\n",
    "    return (1.+xi)/2.\n",
    "\n",
    "# Source term function\n",
    "def bfunc(x):\n",
    "    return 10.*(x*x-1)\n"
   ]
  },
  {
   "cell_type": "code",
   "execution_count": 10,
   "metadata": {},
   "outputs": [],
   "source": [
    "## Finite element solution for PROBLEM 1\n",
    "\n",
    "# pre processing \n",
    "#n_ele = 2\n",
    "#n_ele = 4\n",
    "#n_ele = 8\n",
    "n_ele = 16\n",
    "#n_node = 3\n",
    "#n_node = 5\n",
    "#n_node = 9\n",
    "n_node = 17\n",
    "#node_X = np.array([0.,0.5,1.0])\n",
    "#node_X = np.array([0.,0.25,0.5,0.75,1.0])\n",
    "#node_X = np.array([0.,0.125,0.25,0.375,0.5,0.625,0.75,0.875,1.0])\n",
    "node_X = np.linspace(0.,1.0,17)\n",
    "#elements = np.array([[1,2],[2,3]])\n",
    "#elements = np.array([[1,2],[2,3],[3,4],[4,5]])\n",
    "#elements = np.array([[1,2],[2,3],[3,4],[4,5],[5,6],[6,7],[7,8],[8,9]])\n",
    "elements = np.array([[1,2],[2,3],[3,4],[4,5],[5,6],[6,7],[7,8],[8,9],[9,10],[10,11],[11,12],[12,13],[13,14],[14,15],[15,16],[16,17]])\n",
    "#A_element = np.array([2.,1.])\n",
    "#A_element = np.array([2.,2.,1.,1.])\n",
    "#A_element = np.array([2.,2.,2.,2.,1.,1.,1.,1.])\n",
    "A_element = np.array([2.,2.,2.,2.,2.,2.,2.,2.,1.,1.,1.,1.,1.,1.,1.,1.])\n",
    "E = 1.\n",
    "\n",
    "# assemble global stiffness and force vector\n",
    "K = np.zeros((n_node,n_node))\n",
    "F = np.zeros((n_node))\n",
    "\n",
    "# Loop over elements \n",
    "for i in range(n_ele):\n",
    "    \n",
    "    # Beginning and end 'x' coordinates of this element \n",
    "    x1e = node_X[elements[i,0]-1]\n",
    "    x2e = node_X[elements[i,1]-1]\n",
    "    le = x2e-x1e \n",
    "    \n",
    "    # stiffness matrix for this element (already derived)\n",
    "    Ke = (A_element[i]*E/le)*np.array([[1.,-1],[-1.,1]])\n",
    "    \n",
    "    # Assemble into global stiffness \n",
    "    K[elements[i,0]-1,elements[i,0]-1] += Ke[0,0]\n",
    "    K[elements[i,0]-1,elements[i,1]-1] += Ke[0,1]\n",
    "    K[elements[i,1]-1,elements[i,0]-1] += Ke[1,0]\n",
    "    K[elements[i,1]-1,elements[i,1]-1] += Ke[1,1]\n",
    "    \n",
    "    # for the source term do Gauss quadrature\n",
    "    gauss_1 = np.array([[0,2]])\n",
    "    gauss_3 = np.array([[-np.sqrt(3./5.),5./9.],[0,8./9.],[np.sqrt(3./5.),5./9.]])\n",
    "    Je = le/2.\n",
    "    fe = np.zeros((2))\n",
    "    for ip in range(len(gauss_1)):\n",
    "        x_ip = (x1e+x2e)/2. + gauss_1[ip,0]*Je\n",
    "        fe[0] += Je*gauss_1[ip,1]*N1(gauss_1[ip,0])*bfunc(x_ip)\n",
    "        fe[1] += Je*gauss_1[ip,1]*N2(gauss_1[ip,0])*bfunc(x_ip)\n",
    "    \n",
    "    # assembly\n",
    "    F[elements[i,0]-1] += fe[0]\n",
    "    F[elements[i,1]-1] += fe[1]"
   ]
  },
  {
   "cell_type": "code",
   "execution_count": 11,
   "metadata": {},
   "outputs": [
    {
     "name": "stdout",
     "output_type": "stream",
     "text": [
      "[ 0.      -0.19868 -0.37792 -0.53796 -0.67917 -0.80209 -0.9074  -0.99595\n",
      " -1.06873 -1.18502 -1.27464 -1.3405  -1.3858  -1.41405 -1.42906 -1.43496\n",
      " -1.43616]\n"
     ]
    }
   ],
   "source": [
    "# solving the system with matrix partitioning \n",
    "n_E = 1 # the first node has an essential boundary condition\n",
    "n_F = n_node-n_E\n",
    "K_E = K[0:n_E,0:n_E]\n",
    "K_F = K[n_E:,n_E:]\n",
    "K_EF = K[0:n_E,n_E:]\n",
    "# known displacement\n",
    "u_E = np.array([0.])\n",
    "# known external forces\n",
    "F_F = F[n_E:]\n",
    "# solving A\\b\n",
    "u_F = np.linalg.solve(K_F,F_F- np.dot(K_EF.transpose(),u_E))\n",
    "#print(u_F)\n",
    "# Assemble the vector with all degrees of fredom [u_E,u_F]\n",
    "u = np.zeros((n_node))\n",
    "u[0:n_E] = u_E\n",
    "u[n_E:] = u_F\n",
    "print(u)"
   ]
  },
  {
   "cell_type": "code",
   "execution_count": 14,
   "metadata": {},
   "outputs": [
    {
     "data": {
      "text/plain": [
       "[<matplotlib.lines.Line2D at 0x1118c9a90>]"
      ]
     },
     "execution_count": 14,
     "metadata": {},
     "output_type": "execute_result"
    },
    {
     "data": {
      "image/png": "[encoded data removed]",
      "text/plain": [
       "<matplotlib.figure.Figure at 0x111874b90>"
      ]
     },
     "metadata": {},
     "output_type": "display_data"
    }
   ],
   "source": [
    "umidpoint_P1 = [ -1.13281, -1.08398, -1.07178, -1.06873 ]\n",
    "plt.plot([2,4,8,16],umidpoint_P1,'o-')"
   ]
  },
  {
   "cell_type": "code",
   "execution_count": 24,
   "metadata": {},
   "outputs": [],
   "source": [
    "## Finite element solution for PROBLEM 2\n",
    "\n",
    "# pre processing \n",
    "#n_ele = 2\n",
    "#n_ele = 4\n",
    "#n_ele = 8\n",
    "n_ele = 16\n",
    "#n_node = 3\n",
    "#n_node = 5\n",
    "#n_node = 9\n",
    "n_node = 17\n",
    "#node_X = np.array([0.,1.0,0.5])\n",
    "#node_X = np.array([0.,1.0,0.25,0.5,0.75])\n",
    "#node_X = np.array([0.,1.0,0.125,0.25,0.375,0.5,0.625,0.75,0.875])\n",
    "aux = np.linspace(0.,1.,17)\n",
    "node_X = np.zeros((n_node))\n",
    "node_X[0] = 0.\n",
    "node_X[1] = 1.\n",
    "node_X[2:] = aux[1:-1]\n",
    "#elements = np.array([[1,3],[3,2]])\n",
    "#elements = np.array([[1,3],[3,4],[4,5],[5,2]])\n",
    "#elements = np.array([[1,3],[3,4],[4,5],[5,6],[6,7],[7,8],[8,9],[9,2]])\n",
    "elements = np.array([[1,3],[3,4],[4,5],[5,6],[6,7],[7,8],[8,9],[9,10],[10,11],[11,12],[12,13],[13,14],[14,15],[15,16],[16,17],[17,2]])\n",
    "#A_element = np.array([2.,1.])\n",
    "#A_element = np.array([2.,2.,1.,1.])\n",
    "#A_element = np.array([2.,2.,2.,2.,1.,1.,1.,1.])\n",
    "A_element = np.array([2.,2.,2.,2.,2.,2.,2.,2.,1.,1.,1.,1.,1.,1.,1.,1.])\n",
    "E = 1.\n",
    "\n",
    "# assemble global stiffness and force vector\n",
    "K = np.zeros((n_node,n_node))\n",
    "F = np.zeros((n_node))\n",
    "\n",
    "# Loop over elements \n",
    "for i in range(n_ele):\n",
    "    \n",
    "    # Beginning and end 'x' coordinates of this element \n",
    "    x1e = node_X[elements[i,0]-1]\n",
    "    x2e = node_X[elements[i,1]-1]\n",
    "    le = x2e-x1e \n",
    "    \n",
    "    # stiffness matrix for this element (already derived)\n",
    "    Ke = (A_element[i]*E/le)*np.array([[1.,-1],[-1.,1]])\n",
    "    \n",
    "    # Assemble into global stiffness \n",
    "    K[elements[i,0]-1,elements[i,0]-1] += Ke[0,0]\n",
    "    K[elements[i,0]-1,elements[i,1]-1] += Ke[0,1]\n",
    "    K[elements[i,1]-1,elements[i,0]-1] += Ke[1,0]\n",
    "    K[elements[i,1]-1,elements[i,1]-1] += Ke[1,1]\n",
    "    \n",
    "    # for the source term do Gauss quadrature\n",
    "    gauss_1 = np.array([[0,2]])\n",
    "    gauss_3 = np.array([[-np.sqrt(3./5.),5./9.],[0,8./9.],[np.sqrt(3./5.),5./9.]])\n",
    "    Je = le/2.\n",
    "    fe = np.zeros((2))\n",
    "    for ip in range(1):\n",
    "        x_ip = (x1e+x2e)/2. + gauss_1[ip,0]*Je\n",
    "        fe[0] += Je*gauss_1[ip,1]*N1(gauss_1[ip,0])*bfunc(x_ip)\n",
    "        fe[1] += Je*gauss_1[ip,1]*N2(gauss_1[ip,0])*bfunc(x_ip)\n",
    "    \n",
    "    # assembly\n",
    "    F[elements[i,0]-1] += fe[0]\n",
    "    F[elements[i,1]-1] += fe[1]"
   ]
  },
  {
   "cell_type": "code",
   "execution_count": 25,
   "metadata": {},
   "outputs": [
    {
     "name": "stdout",
     "output_type": "stream",
     "text": [
      "[ 0.       0.      -0.13884 -0.25824 -0.35844 -0.43981 -0.50289 -0.54836\n",
      " -0.57707 -0.59001 -0.58662 -0.55656 -0.50275 -0.42837 -0.33693 -0.23226\n",
      " -0.11848]\n"
     ]
    }
   ],
   "source": [
    "# solving the system with matrix partitioning \n",
    "n_E = 2 # the first node has an essential boundary condition\n",
    "n_F = n_node-n_E\n",
    "K_E = K[0:n_E,0:n_E]\n",
    "K_F = K[n_E:,n_E:]\n",
    "K_EF = K[0:n_E,n_E:]\n",
    "# known displacements\n",
    "u_E = np.array([0.,0.])\n",
    "# known external forces\n",
    "F_F = F[n_E:]\n",
    "# solving A\\b\n",
    "u_F = np.linalg.solve(K_F,F_F- np.dot(K_EF.transpose(),u_E))\n",
    "#print(u_F)\n",
    "# Assemble the vector with all degrees of fredom [u_E,u_F]\n",
    "u = np.zeros((n_node))\n",
    "u[0:n_E] = u_E\n",
    "u[n_E:] = u_F\n",
    "print(u)"
   ]
  },
  {
   "cell_type": "code",
   "execution_count": 27,
   "metadata": {
    "collapsed": true
   },
   "outputs": [],
   "source": [
    "umidpoint_P2 = [-0.57292, -0.58594, -0.58919, -0.59001 ]"
   ]
  },
  {
   "cell_type": "code",
   "execution_count": 28,
   "metadata": {},
   "outputs": [
    {
     "data": {
      "text/plain": [
       "[<matplotlib.lines.Line2D at 0x111a31e10>]"
      ]
     },
     "execution_count": 28,
     "metadata": {},
     "output_type": "execute_result"
    },
    {
     "data": {
      "image/png": "[encoded data removed]",
      "text/plain": [
       "<matplotlib.figure.Figure at 0x111a075d0>"
      ]
     },
     "metadata": {},
     "output_type": "display_data"
    }
   ],
   "source": [
    "plt.plot([2,4,8,16],umidpoint_P2,'o-')"
   ]
  },
  {
   "cell_type": "code",
   "execution_count": null,
   "metadata": {
    "collapsed": true
   },
   "outputs": [],
   "source": []
  }
 ],
 "metadata": {
  "kernelspec": {
   "display_name": "Python 2",
   "language": "python",
   "name": "python2"
  },
  "language_info": {
   "codemirror_mode": {
    "name": "ipython",
    "version": 2
   },
   "file_extension": ".py",
   "mimetype": "text/x-python",
   "name": "python",
   "nbconvert_exporter": "python",
   "pygments_lexer": "ipython2",
   "version": "2.7.13"
  }
 },
 "nbformat": 4,
 "nbformat_minor": 2
}
