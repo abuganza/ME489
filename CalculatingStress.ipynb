{
 "cells": [
  {
   "cell_type": "code",
   "execution_count": null,
   "metadata": {
    "collapsed": true
   },
   "outputs": [],
   "source": [
    "## Calculate and plot the stresses \n",
    "\n",
    "## Create an array with zeros, size of n_elem\n",
    "sigma_trivec = np.zeros((n_elem,3))\n",
    "for i in range(n_elem):\n",
    "     # Get the nodes making up this element\n",
    "    node1 = elements[i,0]-1 # the -1 is because indices start from 0\n",
    "    node2 = elements[i,1]-1 # the -1 is because indices start from 0\n",
    "    node3 = elements[i,2]-1 # the -1 is because indices start from 0\n",
    "\n",
    "    # Get the coordinates of the triangle\n",
    "    x1 = node_X[node1,0]\n",
    "    y1 = node_X[node1,1]\n",
    "    x2 = node_X[node2,0]\n",
    "    y2 = node_X[node2,1]\n",
    "    x3 = node_X[node3,0]\n",
    "    y3 = node_X[node3,1]\n",
    "    Ae = Area(x1,y1,x2,y2,x3,y3)\n",
    "    \n",
    "    # B matrix\n",
    "    B = (1./(2.*Ae))*np.array([[y2-y3,0,y3-y1,0,y1-y2,0],\n",
    "                               [0,x3-x2,0,x1-x3,0,x2-x1],\n",
    "                               [x3-x2,y2-y3,x1-x3,y3-y1,x2-x1,y1-y2]])\n",
    "    \n",
    "    # D matrix\n",
    "    D = E/(1-nu**2)*np.array([[1.,nu,0.],[nu,1.,0.],[0.,0.,(1.-nu)/2.]])\n",
    "    \n",
    "    ## KEY PART OF THIS CODE ## \n",
    "    ## to evaluate the stress need to go get the solution of the displacement\n",
    "    ## That is, if you have your solution stored in the vector 'd' which should be size 2*n_node x 1\n",
    "    ## this vector has the displacements of the nodes, here you need to 'retreive' the displacement of\n",
    "    ## the nodes that form this element, it is sort of the opposite you do in the assembly\n",
    "    \n",
    "    node_e = [node1,node2,node3]\n",
    "    ue = np.zeros((6))\n",
    "    for ni in range(3):\n",
    "        ue[ni*2+0] = d[node_e[ni]*2+0]\n",
    "        ue[ni*2+1] = d[node_e[ni]*2+1]\n",
    "            \n",
    "    ## so now you have the displacements of the nodes making up this element, and they are arranged\n",
    "    ## in a 6x1 vector, the strain is actually strain = epsilon = B^e*u^e\n",
    "    ## note that because B^e is 3x6 and u^e is 6x1, epsilon is 3x1, actually, if you check in the book this is\n",
    "    ## epsilon = [epsilon_xx, epislon_yy, epsilon_xy]\n",
    "    epsilon = np.dot(B,ue)\n",
    "    \n",
    "    ## the stress is nothing more than sigma = D*epsilon, D is a 3x3 matrix, so sigma is 3x1\n",
    "    ## the entries of this vector are sigma = [sigma_xx, sigma_yy, sigma_xy]\n",
    "    sigma = np.dot(D,epsilon)\n",
    "    \n",
    "    ## Here we just store the sigma of this element to the big vector of size n_elem x 3\n",
    "    ## which will have the stress of all elements\n",
    "    sigma_trivec[i,:] = sigma"
   ]
  }
 ],
 "metadata": {
  "kernelspec": {
   "display_name": "Python 2",
   "language": "python",
   "name": "python2"
  },
  "language_info": {
   "codemirror_mode": {
    "name": "ipython",
    "version": 2
   },
   "file_extension": ".py",
   "mimetype": "text/x-python",
   "name": "python",
   "nbconvert_exporter": "python",
   "pygments_lexer": "ipython2",
   "version": "2.7.13"
  }
 },
 "nbformat": 4,
 "nbformat_minor": 2
}
