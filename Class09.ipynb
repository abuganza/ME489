{
 "cells": [
  {
   "cell_type": "code",
   "execution_count": 5,
   "metadata": {},
   "outputs": [],
   "source": [
    "import numpy as np\n",
    "import sympy as sp\n",
    "import matplotlib\n",
    "import random\n",
    "import matplotlib.pyplot as plt\n",
    "%matplotlib inline "
   ]
  },
  {
   "cell_type": "code",
   "execution_count": 7,
   "metadata": {
    "collapsed": true
   },
   "outputs": [],
   "source": [
    "n_ele = 4\n",
    "n_nod = 5\n",
    "elements = np.array([[1,3],[3,4],[4,5],[5,2]])\n",
    "node_X = np.array([0.,1.,0.25,0.5,0.75])\n",
    "node_u = np.random.rand(5)"
   ]
  },
  {
   "cell_type": "code",
   "execution_count": 8,
   "metadata": {
    "collapsed": true
   },
   "outputs": [],
   "source": [
    "## Define shape function\n",
    "def N1(x,x1e,x2e):\n",
    "    le = x2e-x1e\n",
    "    return (1./le)*(x2e-x)\n",
    "\n",
    "def N2(x,x1e,x2e):\n",
    "    le = x2e-x1e\n",
    "    return (1./le)*(x-x1e)"
   ]
  },
  {
   "cell_type": "code",
   "execution_count": 9,
   "metadata": {},
   "outputs": [
    {
     "data": {
      "image/png": "[encoded data removed]",
      "text/plain": [
       "<matplotlib.figure.Figure at 0x110ae0090>"
      ]
     },
     "metadata": {},
     "output_type": "display_data"
    }
   ],
   "source": [
    "## plot a function over the domain by plotting in each element \n",
    "\n",
    "# Loop over elements \n",
    "for i in range(n_ele):\n",
    "    \n",
    "    # Beginning and end 'x' coordinates of this element \n",
    "    x1e = node_X[elements[i,0]-1]\n",
    "    x2e = node_X[elements[i,1]-1]\n",
    "    \n",
    "    # Nodal values of the function 'u'\n",
    "    u1e = node_u[elements[i,0]-1]\n",
    "    u2e = node_u[elements[i,1]-1]\n",
    "    \n",
    "    # Eval the shape function evaluation for multiple x\n",
    "    x_vec = np.linspace(x1e,x2e,50)\n",
    "    u_vec = N1(x_vec,x1e,x2e)*u1e + N2(x_vec,x1e,x2e)*u2e\n",
    "    \n",
    "    # plot\n",
    "    plt.plot(x_vec,u_vec)\n",
    "    "
   ]
  },
  {
   "cell_type": "code",
   "execution_count": null,
   "metadata": {
    "collapsed": true
   },
   "outputs": [],
   "source": []
  }
 ],
 "metadata": {
  "kernelspec": {
   "display_name": "Python 2",
   "language": "python",
   "name": "python2"
  },
  "language_info": {
   "codemirror_mode": {
    "name": "ipython",
    "version": 2
   },
   "file_extension": ".py",
   "mimetype": "text/x-python",
   "name": "python",
   "nbconvert_exporter": "python",
   "pygments_lexer": "ipython2",
   "version": "2.7.13"
  }
 },
 "nbformat": 4,
 "nbformat_minor": 2
}
