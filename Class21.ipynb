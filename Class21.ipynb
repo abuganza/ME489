{
 "cells": [
  {
   "cell_type": "code",
   "execution_count": 1,
   "metadata": {
    "collapsed": true
   },
   "outputs": [],
   "source": [
    "import numpy as np"
   ]
  },
  {
   "cell_type": "code",
   "execution_count": 2,
   "metadata": {},
   "outputs": [
    {
     "name": "stdout",
     "output_type": "stream",
     "text": [
      "[[ 0.  0.]\n",
      " [ 0.  1.]\n",
      " [ 0.  3.]\n",
      " [ 0.  4.]\n",
      " [ 2.  0.]\n",
      " [ 1.  1.]\n",
      " [ 3.  2.]\n",
      " [ 2.  2.]\n",
      " [ 2.  4.]\n",
      " [ 1.  3.]]\n",
      "[[ 1  6  2]\n",
      " [ 1  5  6]\n",
      " [ 5  8  6]\n",
      " [ 5  7  8]\n",
      " [ 7  9  8]\n",
      " [ 9 10  8]\n",
      " [ 9  4 10]\n",
      " [10  4  3]]\n"
     ]
    }
   ],
   "source": [
    "## read in the mesh\n",
    "meshfile = open(\"pipe_mesh.txt\",'r').readlines()\n",
    "n_node = int(meshfile[1])\n",
    "node_X = np.zeros((n_node,2))\n",
    "for i in range(n_node):\n",
    "    aux = meshfile[2+i].split()\n",
    "    node_X[i,0] = float(aux[0])\n",
    "    node_X[i,1] = float(aux[1])\n",
    "n_elem = int(meshfile[3+n_node])\n",
    "elements = np.zeros((n_elem,3),dtype=int)\n",
    "for i in range(n_elem):\n",
    "    aux = meshfile[4+n_node+i].split()\n",
    "    elements[i,0] = int(aux[0])\n",
    "    elements[i,1] = int(aux[1])\n",
    "    elements[i,2] = int(aux[2])\n",
    "print(node_X)\n",
    "print(elements)"
   ]
  },
  {
   "cell_type": "code",
   "execution_count": 3,
   "metadata": {
    "collapsed": true
   },
   "outputs": [],
   "source": [
    "def source(x,y):\n",
    "    return x**2+y**2\n"
   ]
  },
  {
   "cell_type": "code",
   "execution_count": 5,
   "metadata": {},
   "outputs": [
    {
     "name": "stdout",
     "output_type": "stream",
     "text": [
      "('integral of source over the triangle = ', 0.33333333278888894)\n",
      "('integral of source over the triangle = ', 1.3333333311555555)\n",
      "('integral of source over the triangle = ', 3.9999999819022221)\n",
      "('integral of source over the triangle = ', 7.499999981477778)\n",
      "('integral of source over the triangle = ', 12.833333288131112)\n",
      "('integral of source over the triangle = ', 11.99999996572889)\n",
      "('integral of source over the triangle = ', 14.666666626328889)\n",
      "('integral of source over the triangle = ', 5.6666666501422229)\n"
     ]
    }
   ],
   "source": [
    "# looping over elements\n",
    "for i in range(n_elem):\n",
    "    # Get the nodes making up this element\n",
    "    node1 = elements[i,0]-1 # the -1 is because indices start from 0\n",
    "    node2 = elements[i,1]-1 # the -1 is because indices start from 0\n",
    "    node3 = elements[i,2]-1 # the -1 is because indices start from 0\n",
    "    # Get the coordinates of the triangle\n",
    "    x1 = node_X[node1,0]\n",
    "    y1 = node_X[node1,1]\n",
    "    x2 = node_X[node2,0]\n",
    "    y2 = node_X[node2,1]\n",
    "    x3 = node_X[node3,0]\n",
    "    y3 = node_X[node3,1]\n",
    "    \n",
    "    # Jacobian\n",
    "    J = np.array([[x1-x3,y1-y3],[x2-x3,y2-y3]])\n",
    "    detJ = np.linalg.det(J)\n",
    "    \n",
    "    # Loop over integration points \n",
    "    IPxi = np.array([[0.166666666,0.1666666666],[0.6666666666,0.16666666],[0.16666666666,0.666666666]])\n",
    "    IPw = np.array([0.1666666666,0.166666666,0.1666666666])\n",
    "    integral = 0\n",
    "    for i in range(len(IPxi)):\n",
    "        xIP = IPxi[i,0]*x1 + IPxi[i,1]*x2 + (1-IPxi[i,0]-IPxi[i,1])*x3\n",
    "        yIP = IPxi[i,0]*y1 + IPxi[i,1]*y2 + (1-IPxi[i,0]-IPxi[i,1])*y3\n",
    "        integral += IPw[i]*source(xIP,yIP)*detJ\n",
    "    print('integral of source over the triangle = ',integral)\n",
    "    "
   ]
  },
  {
   "cell_type": "code",
   "execution_count": null,
   "metadata": {
    "collapsed": true
   },
   "outputs": [],
   "source": []
  }
 ],
 "metadata": {
  "kernelspec": {
   "display_name": "Python 2",
   "language": "python",
   "name": "python2"
  },
  "language_info": {
   "codemirror_mode": {
    "name": "ipython",
    "version": 2
   },
   "file_extension": ".py",
   "mimetype": "text/x-python",
   "name": "python",
   "nbconvert_exporter": "python",
   "pygments_lexer": "ipython2",
   "version": "2.7.13"
  }
 },
 "nbformat": 4,
 "nbformat_minor": 2
}
