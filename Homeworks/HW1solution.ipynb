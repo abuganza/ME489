{
 "cells": [
  {
   "cell_type": "markdown",
   "metadata": {},
   "source": [
    "## Problem 1 \n",
    "\n",
    "NOTE: This is the same as the code from class 04, but adjusted for the homework examples"
   ]
  },
  {
   "cell_type": "code",
   "execution_count": 1,
   "metadata": {},
   "outputs": [],
   "source": [
    "import numpy as np"
   ]
  },
  {
   "cell_type": "code",
   "execution_count": 9,
   "metadata": {},
   "outputs": [],
   "source": [
    "## Problem setup \n",
    "## This is the only thing that is different from the class 04\n",
    "\n",
    "# Setting up the 'mesh'\n",
    "n_el = 4\n",
    "n_node = 4\n",
    "## nodal coordinates, not given and not needed, but useful to see which is which node\n",
    "# thus I assigned arbitrary values here, just so that you have a better idea of where the nodes are\n",
    "# and the connectivity becomes clear\n",
    "node_X = np.array([[0,0],[2,0],[1,0],[0.5,0]])\n",
    "## connectivity: which nodes form each element\n",
    "elements = np.array([[1,3],[1,4],[4,3],[3,2]])\n",
    "\n",
    "# Material parameters \n",
    "## parameters are stiffness for each element \n",
    "k = 5. #N/m\n",
    "stiffness_vec = k*np.array([3.,1.,2.,1.])\n",
    "\n",
    "# External forces. \n",
    "# Note, I create a vector which is the size of the number of nodes, I actually don't know the reactions\n",
    "# in fact I need to solve for the reactions at some point, but it is convinient to create a vector of this\n",
    "# size so I am just going to put a zero where the reactions are\n",
    "F = np.zeros((n_node))\n",
    "F[2] = 50. # This is the force on node '3', not that python indexing starts at 0, so F[2] is for node 3\n",
    "\n",
    "# Applied displacements.\n",
    "# Note: for the block partitioning to work you need to number the nodes such that the first set of nodes \n",
    "# have an essential boundary condition, and the rest are free nodes. In this case, since the nodes with\n",
    "# essential boundary conditions appear first I don't need to create a long vector the size of the number of nodes\n",
    "# I can just create the vector with just the known displacements \n",
    "d_E = np.array([0.,0.]) # nodes 1 and 2 have known displacements of zero\n",
    "\n",
    "# Defining group of essential and free nodes \n",
    "# Note: for the block partitioning to work you need to number the nodes such that the first set of nodes \n",
    "# have an essential boundary condition, and the rest are free nodes\n",
    "n_E = 2 # nodes 1 and 2 have essential boundary conditions \n",
    "n_F = 2 # the rest of the nodes are free "
   ]
  },
  {
   "cell_type": "code",
   "execution_count": 10,
   "metadata": {},
   "outputs": [
    {
     "name": "stdout",
     "output_type": "stream",
     "text": [
      "K: global stiffness\n",
      "[[ 20.   0. -15.  -5.]\n",
      " [  0.   5.  -5.   0.]\n",
      " [-15.  -5.  30. -10.]\n",
      " [ -5.   0. -10.  15.]]\n"
     ]
    }
   ],
   "source": [
    "## Assembling global stiffness matrix\n",
    "\n",
    "# copy-paste from class 04\n",
    "# array of stiffness matrices\n",
    "Ke_array = []\n",
    "for i in range(n_el):\n",
    "    Ke = np.array([[stiffness_vec[i],-stiffness_vec[i]],[-stiffness_vec[i],stiffness_vec[i]]])\n",
    "    Ke_array.append(Ke)\n",
    "# assemble global stiffness\n",
    "# be careful with numbering between matlab and python\n",
    "K = np.zeros((n_node,n_node))\n",
    "for i in range(n_el):\n",
    "    K[elements[i,0]-1,elements[i,0]-1] += Ke_array[i][0,0]\n",
    "    K[elements[i,0]-1,elements[i,1]-1] += Ke_array[i][0,1]\n",
    "    K[elements[i,1]-1,elements[i,0]-1] += Ke_array[i][1,0]\n",
    "    K[elements[i,1]-1,elements[i,1]-1] += Ke_array[i][1,1]\n",
    "print('K: global stiffness')\n",
    "print(K)"
   ]
  },
  {
   "cell_type": "code",
   "execution_count": 14,
   "metadata": {},
   "outputs": [
    {
     "name": "stdout",
     "output_type": "stream",
     "text": [
      "K_E\n",
      "[[20.  0.]\n",
      " [ 0.  5.]]\n",
      "K_F\n",
      "[[ 30. -10.]\n",
      " [-10.  15.]]\n",
      "K_EF\n",
      "[[-15.  -5.]\n",
      " [ -5.   0.]]\n",
      "F_F\n",
      "[50.  0.]\n",
      "Displacement of free nodes\n",
      "[2.14285714 1.42857143]\n",
      "Reaction forces at nodes with essential boundary conditions\n",
      "[-39.28571429 -10.71428571]\n"
     ]
    }
   ],
   "source": [
    "## Solving the linear system\n",
    "\n",
    "# since I am doing the block partitioning, I numbered my nodes in a way that all the nodes\n",
    "# with essential boundary conditions were numbered first, then the free nodes \n",
    "# Here I don't have to do anything else, just copy-paste from class 04\n",
    "K_E = K[0:n_E,0:n_E]\n",
    "K_F = K[n_E:,n_E:]\n",
    "K_EF = K[0:n_E,n_E:]\n",
    "F_F = F[n_E:]\n",
    "print('K_E')\n",
    "print(K_E)\n",
    "print('K_F')\n",
    "print(K_F)\n",
    "print('K_EF')\n",
    "print(K_EF)\n",
    "print('F_F')\n",
    "print(F_F)\n",
    "\n",
    "# given the partioning, the solution is also copy-pase\n",
    "d_F = np.linalg.solve(K_F,F_F- np.dot(K_EF.transpose(),d_E))\n",
    "print('Displacement of free nodes')\n",
    "print(d_F)\n",
    "\n",
    "# I didn't do this in class but it is in the notes\n",
    "F_E = np.dot(K_E,d_E) + np.dot(K_EF,d_F)\n",
    "print('Reaction forces at nodes with essential boundary conditions')\n",
    "print(F_E)"
   ]
  },
  {
   "cell_type": "markdown",
   "metadata": {},
   "source": [
    "## Problem 2"
   ]
  },
  {
   "cell_type": "code",
   "execution_count": 2,
   "metadata": {},
   "outputs": [],
   "source": [
    "## Problem setup \n",
    "## This is the only thing that is different from the class 04\n",
    "\n",
    "# Setting up the 'mesh'\n",
    "n_el = 3\n",
    "n_node = 4\n",
    "## nodal coordinates\n",
    "node_X = np.array([[0,0],[1.5,0],[0.5,0],[1.0,0]])\n",
    "## connectivity: which nodes form each element\n",
    "elements = np.array([[1,3],[3,4],[4,2]])\n",
    "\n",
    "# Material parameters \n",
    "## parameters are stiffness for each element \n",
    "L = 0.5 # m\n",
    "E = 60e9 # Pa\n",
    "A1 = 1 # m^2 \n",
    "A2 = 0.5 # m^2\n",
    "A3 = 0.25 # m^2\n",
    "k1 = E*A1/L #N/m\n",
    "k2 = E*A2/L #N/m\n",
    "k3 = E*A3/L #N/m\n",
    "stiffness_vec = np.array([k1,k2,k3])\n",
    "\n",
    "# External forces. \n",
    "# Note, I create a vector which is the size of the number of nodes, I actually don't know the reactions\n",
    "# in fact I need to solve for the reactions, but it is convinient to create a vector of this\n",
    "# size so I am just going to put a zero where the reactions are\n",
    "F = np.zeros((n_node))\n",
    "F[2] = 500. # This is the force on node '3', not that python indexing starts at 0, so F[2] is for node 3\n",
    "F[3] = 100. # This is the force on node '4'\n",
    "\n",
    "# Applied displacements.\n",
    "# Note: for the block partitioning to work you need to number the nodes such that the first set of nodes \n",
    "# have an essential boundary condition, and the rest are free nodes. In this case, since the nodes with\n",
    "# essential boundary conditions appear first I don't need to create a long vector the size of the number of nodes\n",
    "# I can just create the vector with just the known displacements \n",
    "d_E = np.array([0.,0.]) # nodes 1 and 2 have known displacements of zero\n",
    "\n",
    "# Defining group of essential and free nodes \n",
    "# Note: for the block partitioning to work you need to number the nodes such that the first set of nodes \n",
    "# have an essential boundary condition, and the rest are free nodes\n",
    "n_E = 2 # nodes 1 and 2 have essential boundary conditions \n",
    "n_F = 2 # the rest of the nodes are free "
   ]
  },
  {
   "cell_type": "code",
   "execution_count": 3,
   "metadata": {},
   "outputs": [
    {
     "name": "stdout",
     "output_type": "stream",
     "text": [
      "K: global stiffness\n",
      "[[ 1.2e+11  0.0e+00 -1.2e+11  0.0e+00]\n",
      " [ 0.0e+00  3.0e+10  0.0e+00 -3.0e+10]\n",
      " [-1.2e+11  0.0e+00  1.8e+11 -6.0e+10]\n",
      " [ 0.0e+00 -3.0e+10 -6.0e+10  9.0e+10]]\n"
     ]
    }
   ],
   "source": [
    "## Assembling global stiffness matrix\n",
    "\n",
    "# copy-paste from class 04\n",
    "# array of stiffness matrices\n",
    "Ke_array = []\n",
    "for i in range(n_el):\n",
    "    Ke = np.array([[stiffness_vec[i],-stiffness_vec[i]],[-stiffness_vec[i],stiffness_vec[i]]])\n",
    "    Ke_array.append(Ke)\n",
    "# assemble global stiffness\n",
    "# be careful with numbering between matlab and python\n",
    "K = np.zeros((n_node,n_node))\n",
    "for i in range(n_el):\n",
    "    K[elements[i,0]-1,elements[i,0]-1] += Ke_array[i][0,0]\n",
    "    K[elements[i,0]-1,elements[i,1]-1] += Ke_array[i][0,1]\n",
    "    K[elements[i,1]-1,elements[i,0]-1] += Ke_array[i][1,0]\n",
    "    K[elements[i,1]-1,elements[i,1]-1] += Ke_array[i][1,1]\n",
    "print('K: global stiffness')\n",
    "print(K)"
   ]
  },
  {
   "cell_type": "code",
   "execution_count": 4,
   "metadata": {},
   "outputs": [
    {
     "name": "stdout",
     "output_type": "stream",
     "text": [
      "K_E\n",
      "[[1.2e+11 0.0e+00]\n",
      " [0.0e+00 3.0e+10]]\n",
      "K_F\n",
      "[[ 1.8e+11 -6.0e+10]\n",
      " [-6.0e+10  9.0e+10]]\n",
      "K_EF\n",
      "[[-1.2e+11  0.0e+00]\n",
      " [ 0.0e+00 -3.0e+10]]\n",
      "F_F\n",
      "[500. 100.]\n",
      "Displacement of free nodes\n",
      "[4.04761905e-09 3.80952381e-09]\n",
      "Reaction forces at nodes with essential boundary conditions\n",
      "[-485.71428571 -114.28571429]\n"
     ]
    }
   ],
   "source": [
    "## Solving the linear system\n",
    "\n",
    "# since I am doing the block partitioning, I numbered my nodes in a way that all the nodes\n",
    "# with essential boundary conditions were numbered first, then the free nodes \n",
    "# Here I don't have to do anything else, just copy-paste from class 04\n",
    "K_E = K[0:n_E,0:n_E]\n",
    "K_F = K[n_E:,n_E:]\n",
    "K_EF = K[0:n_E,n_E:]\n",
    "F_F = F[n_E:]\n",
    "print('K_E')\n",
    "print(K_E)\n",
    "print('K_F')\n",
    "print(K_F)\n",
    "print('K_EF')\n",
    "print(K_EF)\n",
    "print('F_F')\n",
    "print(F_F)\n",
    "\n",
    "# given the partioning, the solution is also copy-pase\n",
    "d_F = np.linalg.solve(K_F,F_F- np.dot(K_EF.transpose(),d_E))\n",
    "print('Displacement of free nodes')\n",
    "print(d_F)\n",
    "\n",
    "# I didn't do this in class but it is in the notes\n",
    "F_E = np.dot(K_E,d_E) + np.dot(K_EF,d_F)\n",
    "print('Reaction forces at nodes with essential boundary conditions')\n",
    "print(F_E)"
   ]
  },
  {
   "cell_type": "code",
   "execution_count": null,
   "metadata": {},
   "outputs": [],
   "source": []
  },
  {
   "cell_type": "code",
   "execution_count": null,
   "metadata": {},
   "outputs": [],
   "source": []
  },
  {
   "cell_type": "code",
   "execution_count": null,
   "metadata": {},
   "outputs": [],
   "source": []
  }
 ],
 "metadata": {
  "kernelspec": {
   "display_name": "Python 2",
   "language": "python",
   "name": "python2"
  },
  "language_info": {
   "codemirror_mode": {
    "name": "ipython",
    "version": 2
   },
   "file_extension": ".py",
   "mimetype": "text/x-python",
   "name": "python",
   "nbconvert_exporter": "python",
   "pygments_lexer": "ipython2",
   "version": "2.7.15"
  }
 },
 "nbformat": 4,
 "nbformat_minor": 2
}
