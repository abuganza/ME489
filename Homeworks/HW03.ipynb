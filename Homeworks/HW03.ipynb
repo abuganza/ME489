{
 "cells": [
  {
   "cell_type": "code",
   "execution_count": 2,
   "metadata": {},
   "outputs": [
    {
     "data": {
      "text/plain": [
       "u'%.5f'"
      ]
     },
     "execution_count": 2,
     "metadata": {},
     "output_type": "execute_result"
    }
   ],
   "source": [
    "import numpy as np\n",
    "import sympy as sp\n",
    "import matplotlib\n",
    "import random\n",
    "import matplotlib.pyplot as plt\n",
    "%matplotlib inline \n",
    "%precision 5"
   ]
  },
  {
   "cell_type": "code",
   "execution_count": 36,
   "metadata": {},
   "outputs": [],
   "source": [
    "def A(x):\n",
    "    A0 = 0.1\n",
    "    return -2*A0/(x-2)\n",
    "\n",
    "def u_exact(x):\n",
    "    u0 = 1e-3\n",
    "    return (1./3)*u0*((x-2)**2-1)\n"
   ]
  },
  {
   "cell_type": "code",
   "execution_count": 37,
   "metadata": {},
   "outputs": [
    {
     "name": "stdout",
     "output_type": "stream",
     "text": [
      "4000.0\n"
     ]
    }
   ],
   "source": [
    "# Some of the parameters (defined in the class notes)\n",
    "\n",
    "u0 = 1e-3\n",
    "A0 = 0.1\n",
    "E = 30e6\n",
    "P = (4./3)*u0*A0*E\n",
    "print(P)"
   ]
  },
  {
   "cell_type": "code",
   "execution_count": 38,
   "metadata": {},
   "outputs": [],
   "source": [
    "## Quadratic shape functions \n",
    "def N1(x,x1e,x2e,x3e):\n",
    "    return (x-x2e)*(x-x3e)/((x1e-x2e)*(x1e-x3e))\n",
    "\n",
    "def N2(x,x1e,x2e,x3e):\n",
    "    return (x-x1e)*(x-x3e)/((x2e-x1e)*(x2e-x3e))\n",
    "\n",
    "def N3(x,x1e,x2e,x3e):\n",
    "    return (x-x1e)*(x-x2e)/((x3e-x1e)*(x3e-x2e))\n",
    "\n",
    "def dN1dx(x,x1e,x2e,x3e):\n",
    "    return (x-x3e)/((x1e-x2e)*(x1e-x3e))+(x-x2e)/((x1e-x2e)*(x1e-x3e))\n",
    "\n",
    "def dN2dx(x,x1e,x2e,x3e):\n",
    "    return (x-x3e)/((x2e-x1e)*(x2e-x3e))+(x-x1e)/((x2e-x1e)*(x2e-x3e))\n",
    "\n",
    "def dN3dx(x,x1e,x2e,x3e):\n",
    "    return (x-x2e)/((x3e-x1e)*(x3e-x2e))+(x-x1e)/((x3e-x1e)*(x3e-x2e))"
   ]
  },
  {
   "cell_type": "code",
   "execution_count": 54,
   "metadata": {},
   "outputs": [
    {
     "name": "stdout",
     "output_type": "stream",
     "text": [
      "[[ 11538461.53846 -12923076.92308   1384615.38462]\n",
      " [-12923076.92308  22153846.15385  -9230769.23077]\n",
      " [  1384615.38462  -9230769.23077   7846153.84615]]\n"
     ]
    }
   ],
   "source": [
    "## Finite element solution\n",
    "\n",
    "# pre processing \n",
    "n_ele = 1\n",
    "n_node = 3\n",
    "node_X = np.array([1.,0.5,0.0])\n",
    "elements = np.array([[3,2,1]])\n",
    "\n",
    "# assemble global stiffness \n",
    "K = np.zeros((n_node,n_node))\n",
    "\n",
    "# integration scheme\n",
    "gauss_2 = np.array([[-1./np.sqrt(3.),1.],[1./np.sqrt(3.),1]])\n",
    "gauss_3 = np.array([[-np.sqrt(3./5.),5./9.],[0,8./9.],[np.sqrt(3./5.),5./9.]])\n",
    "gauss_4 = np.array([[-0.861136,0.347855],[-0.339981,0.652145],[0.339981,0.652145],[0.861136,0.347855]])\n",
    "gauss_5 = np.array([[-0.90618,0.236927],[-0.538469,0.478629],[0,0.568889],[0.538469,0.478629],[0.90618,0.236927]])\n",
    "\n",
    "# Loop over elements \n",
    "for i in range(n_ele):\n",
    "    \n",
    "    # 'x' coordinates of this element \n",
    "    x1e = node_X[elements[i,0]-1]\n",
    "    x2e = node_X[elements[i,1]-1]\n",
    "    x3e = node_X[elements[i,2]-1]\n",
    "    le = x3e-x1e \n",
    "    J = le/2.\n",
    "    \n",
    "    # stiffness matrix for this element, gauss quadrature with 3 points \n",
    "    Ke = np.zeros((3,3))\n",
    "    for ip in range(len(gauss_2)):\n",
    "        x_i = 0.5*(x1e+x3e) + 0.5*gauss_2[ip,0]*le\n",
    "        dNdx = np.array([dN1dx(x_i,x1e,x2e,x3e),dN2dx(x_i,x1e,x2e,x3e),dN3dx(x_i,x1e,x2e,x3e)])\n",
    "        Ke += J*gauss_2[ip,1]*A(x_i)*E*np.outer(dNdx,dNdx)\n",
    "    \n",
    "    # Assemble into global stiffness \n",
    "    K[elements[i,0]-1,elements[i,0]-1] += Ke[0,0]\n",
    "    K[elements[i,0]-1,elements[i,1]-1] += Ke[0,1]\n",
    "    K[elements[i,0]-1,elements[i,2]-1] += Ke[0,2]\n",
    "    K[elements[i,1]-1,elements[i,0]-1] += Ke[1,0]\n",
    "    K[elements[i,1]-1,elements[i,1]-1] += Ke[1,1]\n",
    "    K[elements[i,1]-1,elements[i,2]-1] += Ke[1,2]\n",
    "    K[elements[i,2]-1,elements[i,0]-1] += Ke[2,0]\n",
    "    K[elements[i,2]-1,elements[i,1]-1] += Ke[2,1]\n",
    "    K[elements[i,2]-1,elements[i,2]-1] += Ke[2,2]\n",
    "\n",
    "print(K)"
   ]
  },
  {
   "cell_type": "code",
   "execution_count": 55,
   "metadata": {},
   "outputs": [
    {
     "name": "stdout",
     "output_type": "stream",
     "text": [
      "[0.      0.00042 0.001  ]\n"
     ]
    }
   ],
   "source": [
    "# solve\n",
    "\n",
    "# solving the system with matrix partitioning \n",
    "n_E = 1 # the first node has an essential boundary condition\n",
    "n_F = 2 # the other 5 nodes are free\n",
    "K_E = K[0:n_E,0:n_E]\n",
    "K_F = K[n_E:,n_E:]\n",
    "K_EF = K[0:n_E,n_E:]\n",
    "# known displacement\n",
    "u_E = np.array([0.])\n",
    "# known external forces\n",
    "F_F = np.array([0.,4000])\n",
    "# solving A\\b\n",
    "u_F = np.linalg.solve(K_F,F_F- np.dot(K_EF.transpose(),u_E))\n",
    "#print(u_F)\n",
    "# Assemble the vector with all degrees of fredom [u_E,u_F]\n",
    "u = np.zeros((n_node))\n",
    "u[0:n_E] = u_E\n",
    "u[n_E:] = u_F\n",
    "print(u)"
   ]
  },
  {
   "cell_type": "code",
   "execution_count": 56,
   "metadata": {},
   "outputs": [
    {
     "data": {
      "text/plain": [
       "[<matplotlib.lines.Line2D at 0xac9b908>]"
      ]
     },
     "execution_count": 56,
     "metadata": {},
     "output_type": "execute_result"
    },
    {
     "data": {
      "image/png": "[encoded data removed]",
      "text/plain": [
       "<Figure size 432x288 with 1 Axes>"
      ]
     },
     "metadata": {},
     "output_type": "display_data"
    }
   ],
   "source": [
    "# Plot the calculated and exact solutions\n",
    "\n",
    "# Loop over elements \n",
    "for i in range(n_ele):\n",
    "    \n",
    "    # 'x' coordinates of this element \n",
    "    x1e = node_X[elements[i,0]-1]\n",
    "    x2e = node_X[elements[i,1]-1]\n",
    "    x3e = node_X[elements[i,2]-1]\n",
    "    \n",
    "    # Nodal values of the function 'u'\n",
    "    u1e = u[elements[i,0]-1]\n",
    "    u2e = u[elements[i,1]-1]\n",
    "    u3e = u[elements[i,2]-1]\n",
    "    \n",
    "    # Eval the shape function evaluation for multiple x\n",
    "    x_vec = np.linspace(x1e,x3e,50)\n",
    "    u_vec = N1(x_vec,x1e,x2e,x3e)*u1e + N2(x_vec,x1e,x2e,x3e)*u2e + N3(x_vec,x1e,x2e,x3e)*u3e\n",
    "    \n",
    "    # plot\n",
    "    plt.plot(x_vec,u_vec,zorder=0)\n",
    "x_ls = np.linspace(0,1,100)\n",
    "plt.plot(x_ls,u_exact(x_ls),'--',zorder=1,color='black')"
   ]
  },
  {
   "cell_type": "code",
   "execution_count": null,
   "metadata": {},
   "outputs": [],
   "source": []
  },
  {
   "cell_type": "code",
   "execution_count": null,
   "metadata": {},
   "outputs": [],
   "source": []
  }
 ],
 "metadata": {
  "kernelspec": {
   "display_name": "Python 2",
   "language": "python",
   "name": "python2"
  },
  "language_info": {
   "codemirror_mode": {
    "name": "ipython",
    "version": 2
   },
   "file_extension": ".py",
   "mimetype": "text/x-python",
   "name": "python",
   "nbconvert_exporter": "python",
   "pygments_lexer": "ipython2",
   "version": "2.7.15"
  }
 },
 "nbformat": 4,
 "nbformat_minor": 2
}
