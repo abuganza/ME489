{
 "cells": [
  {
   "cell_type": "code",
   "execution_count": 1,
   "metadata": {},
   "outputs": [
    {
     "data": {
      "text/plain": [
       "u'%.5f'"
      ]
     },
     "execution_count": 1,
     "metadata": {},
     "output_type": "execute_result"
    }
   ],
   "source": [
    "import numpy as np\n",
    "import sympy as sp\n",
    "import matplotlib\n",
    "import random\n",
    "import matplotlib.pyplot as plt\n",
    "import matplotlib.tri as mtri\n",
    "%matplotlib inline \n",
    "%precision 5"
   ]
  },
  {
   "cell_type": "markdown",
   "metadata": {},
   "source": [
    "# Solution"
   ]
  },
  {
   "cell_type": "code",
   "execution_count": 2,
   "metadata": {
    "collapsed": true
   },
   "outputs": [],
   "source": [
    "## Read in a mesh \n",
    "meshfile = open(\"PlateMeshOrdered.txt\",'r').readlines()\n",
    "n_node = int(meshfile[1])\n",
    "node_X = np.zeros((n_node,2))\n",
    "for i in range(n_node):\n",
    "    aux = meshfile[2+i].split()\n",
    "    node_X[i,0] = float(aux[0])\n",
    "    node_X[i,1] = float(aux[1])\n",
    "n_elem = int(meshfile[3+n_node])\n",
    "elements = np.zeros((n_elem,3),dtype=int)\n",
    "for i in range(n_elem):\n",
    "    aux = meshfile[4+n_node+i].split()\n",
    "    elements[i,0] = int(aux[0])\n",
    "    elements[i,1] = int(aux[1])\n",
    "    elements[i,2] = int(aux[2])\n",
    "#print(node_X)\n",
    "#print(elements)"
   ]
  },
  {
   "cell_type": "code",
   "execution_count": 3,
   "metadata": {
    "collapsed": true
   },
   "outputs": [],
   "source": [
    "## To build the global stiffness matrix I need to have a function for the \n",
    "## gradient of shape functions\n",
    "\n",
    "def Gradient_N1(x1,y1,x2,y2,x3,y3):\n",
    "    \n",
    "    edge1 = np.array([x2-x1,y2-y1,0.])\n",
    "    edge2 = np.array([x3-x1,y3-y1,0.])\n",
    "    A_e = np.cross(edge1,edge2)\n",
    "    A_e = np.linalg.norm(A_e)/2.\n",
    "    \n",
    "    dN1dx = (1./(2*A_e))*(y2-y3)\n",
    "    dN1dy = (1./(2*A_e))*(x3-x2)\n",
    "    \n",
    "    return np.array([dN1dx,dN1dy])\n",
    "\n",
    "def Gradient_N2(x1,y1,x2,y2,x3,y3):\n",
    "    edge1 = np.array([x2-x1,y2-y1,0.])\n",
    "    edge2 = np.array([x3-x1,y3-y1,0.])\n",
    "    A_e = np.cross(edge1,edge2)\n",
    "    A_e = np.linalg.norm(A_e)/2.\n",
    "    \n",
    "    dN2dx = (1./(2*A_e))*(y3-y1)\n",
    "    dN2dy = (1./(2*A_e))*(x1-x3)\n",
    "    \n",
    "    return np.array([dN2dx,dN2dy])\n",
    "\n",
    "def Gradient_N3(x1,y1,x2,y2,x3,y3):\n",
    "    edge1 = np.array([x2-x1,y2-y1,0.])\n",
    "    edge2 = np.array([x3-x1,y3-y1,0.])\n",
    "    A_e = np.cross(edge1,edge2)\n",
    "    A_e = np.linalg.norm(A_e)/2.\n",
    "    \n",
    "    dN3dx = (1./(2*A_e))*(y1-y2)\n",
    "    dN3dy = (1./(2*A_e))*(x2-x1)\n",
    "    return np.array([dN3dx,dN3dy])\n",
    "\n",
    "def Area(x1,y1,x2,y2,x3,y3):\n",
    "    edge1 = np.array([x2-x1,y2-y1,0.])\n",
    "    edge2 = np.array([x3-x1,y3-y1,0.])\n",
    "    A_e = np.cross(edge1,edge2)\n",
    "    A_e = np.linalg.norm(A_e)/2.\n",
    "    return A_e\n",
    "\n"
   ]
  },
  {
   "cell_type": "code",
   "execution_count": 4,
   "metadata": {
    "collapsed": true
   },
   "outputs": [],
   "source": [
    "## Shape functions over the edge\n",
    "def N1(x,x1e,x2e):\n",
    "    le = x2e-x1e\n",
    "    return (1./le)*(x2e-x)\n",
    "\n",
    "def N2(x,x1e,x2e):\n",
    "    le = x2e-x1e\n",
    "    return (1./le)*(x-x1e)"
   ]
  },
  {
   "cell_type": "code",
   "execution_count": 5,
   "metadata": {
    "collapsed": true
   },
   "outputs": [],
   "source": [
    "def source(x,y):\n",
    "    a = 0.25\n",
    "    b = 1.\n",
    "    return 4.*a/np.sqrt(x**2 + y**2) - 4. - 2*a*x**2/np.sqrt((x**2 + y**2)**3)- 2*a*y**2/np.sqrt((x**2 + y**2)**3)"
   ]
  },
  {
   "cell_type": "code",
   "execution_count": 6,
   "metadata": {
    "collapsed": true
   },
   "outputs": [],
   "source": [
    "## boundary fluxes\n",
    "def bottomflux(x,y):\n",
    "    b = 1.\n",
    "    a = 0.25\n",
    "    return (2*y-2*a*y/np.sqrt(x**2+y**2) )\n",
    "\n",
    "def topflux(x,y):\n",
    "    b = 1.\n",
    "    a = 0.25\n",
    "    return -1.*(2*y-2*a*y/np.sqrt(x**2+y**2) )\n"
   ]
  },
  {
   "cell_type": "code",
   "execution_count": 27,
   "metadata": {},
   "outputs": [],
   "source": [
    "## Build global stiffness and force vectors\n",
    "K = np.zeros((n_node,n_node))\n",
    "F = np.zeros((n_node))\n",
    "## Loop over elements\n",
    "for i in range(n_elem):\n",
    "    # Get the nodes making up this element\n",
    "    node1 = elements[i,0]-1 # the -1 is because indices start from 0\n",
    "    node2 = elements[i,1]-1 # the -1 is because indices start from 0\n",
    "    node3 = elements[i,2]-1 # the -1 is because indices start from 0\n",
    "    # Get the coordinates of the triangle\n",
    "    x1 = node_X[node1,0]\n",
    "    y1 = node_X[node1,1]\n",
    "    x2 = node_X[node2,0]\n",
    "    y2 = node_X[node2,1]\n",
    "    x3 = node_X[node3,0]\n",
    "    y3 = node_X[node3,1]\n",
    "    # Call function to evaluate the gradient of shape functions \n",
    "    GradN1e = Gradient_N1(x1,y1,x2,y2,x3,y3)\n",
    "    GradN2e = Gradient_N2(x1,y1,x2,y2,x3,y3)\n",
    "    GradN3e = Gradient_N3(x1,y1,x2,y2,x3,y3)\n",
    "    # Build the element stiffness \n",
    "    A_e = Area(x1,y1,x2,y2,x3,y3)\n",
    "    Ke = A_e*np.array([[np.dot(GradN1e,GradN1e),np.dot(GradN1e,GradN2e),np.dot(GradN1e,GradN3e)],\n",
    "                   [np.dot(GradN2e,GradN1e),np.dot(GradN2e,GradN2e),np.dot(GradN2e,GradN3e)],\n",
    "                   [np.dot(GradN3e,GradN1e),np.dot(GradN3e,GradN2e),np.dot(GradN3e,GradN3e)]])\n",
    "    #print(Ke)\n",
    "    # Assemble into the global stiffness \n",
    "    K[node1,node1] += Ke[0,0]\n",
    "    K[node1,node2] += Ke[0,1]\n",
    "    K[node1,node3] += Ke[0,2]\n",
    "    K[node2,node1] += Ke[1,0]\n",
    "    K[node2,node2] += Ke[1,1]\n",
    "    K[node2,node3] += Ke[1,2]\n",
    "    K[node3,node1] += Ke[2,0]\n",
    "    K[node3,node2] += Ke[2,1]\n",
    "    K[node3,node3] += Ke[2,2]\n",
    "    \n",
    "    # Integrate the source term \n",
    "    J = np.array([[x1-x3,y1-y3],[x2-x3,y2-y3]])\n",
    "    detJ = np.linalg.det(J)\n",
    "    # Loop over integration points \n",
    "    IPxi = np.array([[0.166666666,0.1666666666],[0.6666666666,0.16666666],[0.16666666666,0.666666666]])\n",
    "    IPw = np.array([0.1666666666,0.166666666,0.1666666666])\n",
    "    fes = np.zeros((3))\n",
    "    for i in range(len(IPxi)):\n",
    "        xIP = IPxi[i,0]*x1 + IPxi[i,1]*x2 + (1-IPxi[i,0]-IPxi[i,1])*x3\n",
    "        yIP = IPxi[i,0]*y1 + IPxi[i,1]*y2 + (1-IPxi[i,0]-IPxi[i,1])*y3\n",
    "        # integral(Ni*source), fs = [integral(N1*source),integral(N2*source),integral(N3*source)]\n",
    "        fes[0] += IPw[i]*IPxi[i,0]*source(xIP,yIP)*detJ\n",
    "        fes[1] += IPw[i]*IPxi[i,1]*source(xIP,yIP)*detJ\n",
    "        fes[2] += IPw[i]*(1-IPxi[i,0]-IPxi[i,1])*source(xIP,yIP)*detJ\n",
    "    \n",
    "    # Integrate the boundary term for the bottom and top boundaries \n",
    "    # use thre point gauss for edge integrals\n",
    "    gauss_3 = np.array([[-np.sqrt(3./5.),5./9.],[0,8./9.],[np.sqrt(3./5.),5./9.]])\n",
    "    \n",
    "    feq = np.zeros((3))\n",
    "    if y1<-0.99 and y2 <-0.99:\n",
    "        # first edge is in the bottom NBC\n",
    "        # means N1 and N2 have to be integrated over edge, we can recast the shape functions over the edge \n",
    "        le = x2-x1\n",
    "        Jedge = le/2.\n",
    "        for i in range(3):\n",
    "            x_i = 0.5*(x1+x2) + 0.5*gauss_3[i,0]*le\n",
    "            # these two are equivalent\n",
    "            feq[0] += gauss_3[i,1]*((1-gauss_3[i,0])/2.)*bottomflux(x_i,-1.0)*Jedge\n",
    "            feq[1] += gauss_3[i,1]*((1+gauss_3[i,0])/2.)*bottomflux(x_i,-1.0)*Jedge\n",
    "            #\n",
    "            #feq[0] += gauss_3[i,1]*N1(x_i,x1,x2)*bottomflux(x_i,-1.0)*Jedge\n",
    "            #feq[1] += gauss_3[i,1]*N2(x_i,x1,x2)*bottomflux(x_i,-1.0)*Jedge\n",
    "    if y2<-0.99 and y3 <-0.99:\n",
    "        # second edge is in the bottom NBC\n",
    "        le = x3-x2\n",
    "        Jedge = le/2.\n",
    "        for i in range(3):\n",
    "            x_i = 0.5*(x2+x3) + 0.5*gauss_3[i,0]*le\n",
    "            feq[1] += gauss_3[i,1]*N1(x_i,x2,x3)*bottomflux(x_i,-1.0)*Jedge\n",
    "            feq[2] += gauss_3[i,1]*N2(x_i,x2,x3)*bottomflux(x_i,-1.0)*Jedge\n",
    "    if y3<-0.99 and y1 <-0.99:\n",
    "        # third edge is in the bottom NBC\n",
    "        le = x1-x3\n",
    "        Jedge = le/2.\n",
    "        for i in range(3):\n",
    "            x_i = 0.5*(x3+x1) + 0.5*gauss_3[i,0]*le\n",
    "            feq[2] += gauss_3[i,1]*N1(x_i,x3,x1)*bottomflux(x_i,-1.0)*Jedge\n",
    "            feq[0] += gauss_3[i,1]*N2(x_i,x3,x1)*bottomflux(x_i,-1.0)*Jedge\n",
    "    if y1>0.99 and y2 >0.99:\n",
    "        # first edge is in the top NBC\n",
    "        le = x1-x2\n",
    "        Jedge = le/2.\n",
    "        for i in range(3):\n",
    "            x_i = 0.5*(x1+x2) + 0.5*gauss_3[i,0]*le\n",
    "            feq[1] += gauss_3[i,1]*N1(x_i,x2,x1)*topflux(x_i,1.0)*Jedge\n",
    "            feq[0] += gauss_3[i,1]*N2(x_i,x2,x1)*topflux(x_i,1.0)*Jedge\n",
    "    if y2>0.99 and y3 >0.99:\n",
    "        # second edge is in the bottom NBC\n",
    "        le = x2-x3\n",
    "        Jedge = le/2.\n",
    "        for i in range(3):\n",
    "            x_i = 0.5*(x2+x3) + 0.5*gauss_3[i,0]*le\n",
    "            feq[2] += gauss_3[i,1]*N1(x_i,x3,x2)*topflux(x_i,1.0)*Jedge\n",
    "            feq[1] += gauss_3[i,1]*N2(x_i,x3,x2)*topflux(x_i,1.0)*Jedge\n",
    "    if y3>0.99 and y1 >0.99:\n",
    "        # third edge is in the top NBC\n",
    "        le = x3-x1\n",
    "        Jedge = le/2.\n",
    "        for i in range(3):\n",
    "            x_i = 0.5*(x3+x1) + 0.5*gauss_3[i,0]*le\n",
    "            feq[0] += gauss_3[i,1]*N1(x_i,x1,x3)*topflux(x_i,1.0)*Jedge\n",
    "            feq[2] += gauss_3[i,1]*N2(x_i,x1,x3)*topflux(x_i,1.0)*Jedge\n",
    "            \n",
    "    F[node1]+=fes[0]-feq[0]\n",
    "    F[node2]+=fes[1]-feq[1]\n",
    "    F[node3]+=fes[2]-feq[2]"
   ]
  },
  {
   "cell_type": "code",
   "execution_count": 28,
   "metadata": {},
   "outputs": [
    {
     "name": "stdout",
     "output_type": "stream",
     "text": [
      "56\n"
     ]
    }
   ],
   "source": [
    "## To solve we need the essential boundary condition\n",
    "# create zero vector size of nodes and fill inthe first nodes which are on the EBC\n",
    "d = np.zeros((n_node))\n",
    "#d_E = np.zeros((56))\n",
    "a = 0.25\n",
    "b = 1.\n",
    "count_EBC = 0\n",
    "for i in range(n_node):\n",
    "    if node_X[i,0]<-0.99:\n",
    "        # this node is in the left boundary \n",
    "        d[i] = a**2+b**2+node_X[i,1]**2-2*a*np.sqrt(node_X[i,1]**2+b**2)\n",
    "        count_EBC += 1\n",
    "    elif node_X[i,0]>0.99:\n",
    "        # this node is in the right boundary \n",
    "        d[i] = a**2+b**2+node_X[i,1]**2-2*a*np.sqrt(node_X[i,1]**2+b**2)\n",
    "        count_EBC += 1\n",
    "    elif abs(node_X[i,0]**2+node_X[i,1]**2-0.25**2)<0.001:\n",
    "        d[i] = 0\n",
    "        count_EBC += 1\n",
    "print(count_EBC)"
   ]
  },
  {
   "cell_type": "code",
   "execution_count": 29,
   "metadata": {},
   "outputs": [],
   "source": [
    "n_E = count_EBC\n",
    "n_F = n_node-count_EBC\n",
    "K_E = K[0:n_E,0:n_E]\n",
    "K_F = K[n_E:,n_E:]\n",
    "K_EF = K[0:n_E,n_E:]\n",
    "F_E = F[0:n_E]\n",
    "F_F = F[n_E:]\n",
    "d_E = d[0:n_E]\n",
    "#print(F_F)"
   ]
  },
  {
   "cell_type": "code",
   "execution_count": 30,
   "metadata": {},
   "outputs": [],
   "source": [
    "#solve\n",
    "d_F = np.linalg.solve(K_F,F_F- np.dot(K_EF.transpose(),d_E))\n",
    "#print(d_F)"
   ]
  },
  {
   "cell_type": "code",
   "execution_count": 31,
   "metadata": {
    "collapsed": true
   },
   "outputs": [],
   "source": [
    "# reassemble into full d \n",
    "for i in range(n_E,n_node):\n",
    "    d[i] = d_F[i-n_E]"
   ]
  },
  {
   "cell_type": "code",
   "execution_count": 32,
   "metadata": {},
   "outputs": [
    {
     "data": {
      "text/plain": [
       "<matplotlib.colorbar.Colorbar at 0x10f953810>"
      ]
     },
     "execution_count": 32,
     "metadata": {},
     "output_type": "execute_result"
    },
    {
     "data": {
      "image/png": "[encoded data removed]",
      "text/plain": [
       "<matplotlib.figure.Figure at 0x10f8b8c90>"
      ]
     },
     "metadata": {},
     "output_type": "display_data"
    }
   ],
   "source": [
    "plt.figure(figsize=(10,10))\n",
    "plt.gca().set_aspect('equal')\n",
    "#levels = [-0.00001, 0.2, 0.4, 0.6, 0.8, 1., 1.2,1.4]\n",
    "plt.tricontourf(node_X[:,0],node_X[:,1] ,  elements-1, d)\n",
    "plt.colorbar()"
   ]
  },
  {
   "cell_type": "code",
   "execution_count": 60,
   "metadata": {
    "collapsed": true
   },
   "outputs": [],
   "source": [
    "def exact_solution(x,y):\n",
    "    a = 0.25\n",
    "    b = 1.\n",
    "    return x**2+y**2-2*a*np.sqrt(x**2+y**2)+a**2"
   ]
  },
  {
   "cell_type": "code",
   "execution_count": 61,
   "metadata": {
    "collapsed": true
   },
   "outputs": [],
   "source": [
    "d_exact = np.zeros((n_node))\n",
    "for i in range(n_node):\n",
    "    d_exact[i] = exact_solution(node_X[i,0],node_X[i,1])"
   ]
  },
  {
   "cell_type": "code",
   "execution_count": 108,
   "metadata": {},
   "outputs": [
    {
     "data": {
      "text/plain": [
       "<matplotlib.colorbar.Colorbar at 0x11a887090>"
      ]
     },
     "execution_count": 108,
     "metadata": {},
     "output_type": "execute_result"
    },
    {
     "data": {
      "image/png": "[encoded data removed]",
      "text/plain": [
       "<matplotlib.figure.Figure at 0x11a3a0f50>"
      ]
     },
     "metadata": {},
     "output_type": "display_data"
    }
   ],
   "source": [
    "plt.figure(figsize=(10,10))\n",
    "plt.gca().set_aspect('equal')\n",
    "levels = [-0.00001, 0.2, 0.4, 0.6, 0.8, 1., 1.2, 1.4]\n",
    "plt.tricontourf(node_X[:,0],node_X[:,1] ,  elements-1, d_exact, levels)\n",
    "plt.colorbar()"
   ]
  },
  {
   "cell_type": "code",
   "execution_count": 1,
   "metadata": {
    "collapsed": true
   },
   "outputs": [],
   "source": []
  },
  {
   "cell_type": "code",
   "execution_count": null,
   "metadata": {
    "collapsed": true
   },
   "outputs": [],
   "source": []
  }
 ],
 "metadata": {
  "kernelspec": {
   "display_name": "Python 2",
   "language": "python",
   "name": "python2"
  },
  "language_info": {
   "codemirror_mode": {
    "name": "ipython",
    "version": 2
   },
   "file_extension": ".py",
   "mimetype": "text/x-python",
   "name": "python",
   "nbconvert_exporter": "python",
   "pygments_lexer": "ipython2",
   "version": "2.7.13"
  }
 },
 "nbformat": 4,
 "nbformat_minor": 2
}
