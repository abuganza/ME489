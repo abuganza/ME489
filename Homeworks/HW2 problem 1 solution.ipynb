{
 "cells": [
  {
   "cell_type": "code",
   "execution_count": 1,
   "metadata": {},
   "outputs": [],
   "source": [
    "import numpy as np\n",
    "np.set_printoptions(precision=3)"
   ]
  },
  {
   "cell_type": "code",
   "execution_count": 5,
   "metadata": {},
   "outputs": [
    {
     "name": "stdout",
     "output_type": "stream",
     "text": [
      "('Ke for element ', 0)\n",
      "[[ 3.536e+09 -3.536e+09 -3.536e+09  3.536e+09]\n",
      " [-3.536e+09  3.536e+09  3.536e+09 -3.536e+09]\n",
      " [-3.536e+09  3.536e+09  3.536e+09 -3.536e+09]\n",
      " [ 3.536e+09 -3.536e+09 -3.536e+09  3.536e+09]]\n",
      "('Ke for element ', 1)\n",
      "[[ 7.499e-23 -1.225e-06 -7.499e-23  1.225e-06]\n",
      " [-1.225e-06  2.000e+10  1.225e-06 -2.000e+10]\n",
      " [-7.499e-23  1.225e-06  7.499e-23 -1.225e-06]\n",
      " [ 1.225e-06 -2.000e+10 -1.225e-06  2.000e+10]]\n",
      "('Ke for element ', 2)\n",
      "[[ 3.536e+09  3.536e+09 -3.536e+09 -3.536e+09]\n",
      " [ 3.536e+09  3.536e+09 -3.536e+09 -3.536e+09]\n",
      " [-3.536e+09 -3.536e+09  3.536e+09  3.536e+09]\n",
      " [-3.536e+09 -3.536e+09  3.536e+09  3.536e+09]]\n",
      "K: global stiffness\n",
      "[[ 3.536e+09 -3.536e+09  0.000e+00  0.000e+00  0.000e+00  0.000e+00\n",
      "  -3.536e+09  3.536e+09]\n",
      " [-3.536e+09  3.536e+09  0.000e+00  0.000e+00  0.000e+00  0.000e+00\n",
      "   3.536e+09 -3.536e+09]\n",
      " [ 0.000e+00  0.000e+00  7.499e-23 -1.225e-06  0.000e+00  0.000e+00\n",
      "  -7.499e-23  1.225e-06]\n",
      " [ 0.000e+00  0.000e+00 -1.225e-06  2.000e+10  0.000e+00  0.000e+00\n",
      "   1.225e-06 -2.000e+10]\n",
      " [ 0.000e+00  0.000e+00  0.000e+00  0.000e+00  3.536e+09  3.536e+09\n",
      "  -3.536e+09 -3.536e+09]\n",
      " [ 0.000e+00  0.000e+00  0.000e+00  0.000e+00  3.536e+09  3.536e+09\n",
      "  -3.536e+09 -3.536e+09]\n",
      " [-3.536e+09  3.536e+09 -7.499e-23  1.225e-06 -3.536e+09 -3.536e+09\n",
      "   7.071e+09 -1.431e-06]\n",
      " [ 3.536e+09 -3.536e+09  1.225e-06 -2.000e+10 -3.536e+09 -3.536e+09\n",
      "  -1.431e-06  2.707e+10]]\n"
     ]
    }
   ],
   "source": [
    "# number of elements and nodes\n",
    "n_el = 3\n",
    "n_node = 4\n",
    "## connectivity: which nodes form each element\n",
    "elements = np.array([[1,4],[2,4],[3,4]])\n",
    "## node coordinates\n",
    "nodes_X = np.array([[-1,1],[0,1],[1,1],[0,0]])\n",
    "## parameters are stiffness for each element (arbitrary, just to show)\n",
    "E = 10e11\n",
    "A1 = 1e-2\n",
    "A2 = 2e-2\n",
    "A3 = 1e-2\n",
    "A_vec = np.array([A1,A2,A3])\n",
    "# array of stiffness matrices\n",
    "Ke_array = []\n",
    "for i in range(n_el):\n",
    "    ## transformation matrix (get angle based on node coordinates)\n",
    "    X1e = nodes_X[elements[i,0]-1,0]\n",
    "    Y1e = nodes_X[elements[i,0]-1,1]\n",
    "    X2e = nodes_X[elements[i,1]-1,0]\n",
    "    Y2e = nodes_X[elements[i,1]-1,1]    \n",
    "    le = np.sqrt( (X2e-X1e)**2+(Y2e-Y1e)**2)\n",
    "    phi = np.arctan2(Y2e-Y1e,X2e-X1e)\n",
    "    Re = np.array([[np.cos(phi),np.sin(phi),0,0],\\\n",
    "                   [-np.sin(phi),np.cos(phi),0,0],\\\n",
    "                   [0,0,np.cos(phi),np.sin(phi)],\\\n",
    "                   [0,0,-np.sin(phi),np.cos(phi)]])\n",
    "    ## stiffness matrix in the local (rotated system aligned with the truss element)\n",
    "    Ke_loc = (A_vec[i]*E/le)*np.array([[1,0,-1,0],\\\n",
    "                                       [0,0,0,0],\\\n",
    "                                       [-1,0,1,0],\\\n",
    "                                       [0,0,0,0]])\n",
    "    ## transform Ke_loc to Ke\n",
    "    Ke = np.dot(Re.transpose(),np.dot(Ke_loc,Re))\n",
    "    print('Ke for element ',i)\n",
    "    print(Ke)\n",
    "    Ke_array.append(Ke)\n",
    "\n",
    "# assemble global stiffness\n",
    "K = np.zeros((n_node*2,n_node*2))\n",
    "for i in range(n_el):\n",
    "    # watching out for matlab vs python convention \n",
    "    ind1 = elements[i,0]-1 # node 1\n",
    "    ind2 = elements[i,1]-1 # node 2\n",
    "    # first row \n",
    "    K[ind1*2+0,ind1*2+0] += Ke_array[i][0,0]\n",
    "    K[ind1*2+0,ind1*2+1] += Ke_array[i][0,1]\n",
    "    K[ind1*2+0,ind2*2+0] += Ke_array[i][0,2]\n",
    "    K[ind1*2+0,ind2*2+1] += Ke_array[i][0,3]\n",
    "    # second row\n",
    "    K[ind1*2+1,ind1*2+0] += Ke_array[i][1,0]\n",
    "    K[ind1*2+1,ind1*2+1] += Ke_array[i][1,1]\n",
    "    K[ind1*2+1,ind2*2+0] += Ke_array[i][1,2]\n",
    "    K[ind1*2+1,ind2*2+1] += Ke_array[i][1,3]\n",
    "    # third row\n",
    "    K[ind2*2+0,ind1*2+0] += Ke_array[i][2,0]\n",
    "    K[ind2*2+0,ind1*2+1] += Ke_array[i][2,1]\n",
    "    K[ind2*2+0,ind2*2+0] += Ke_array[i][2,2]\n",
    "    K[ind2*2+0,ind2*2+1] += Ke_array[i][2,3]\n",
    "    # fourth row\n",
    "    K[ind2*2+1,ind1*2+0] += Ke_array[i][3,0]\n",
    "    K[ind2*2+1,ind1*2+1] += Ke_array[i][3,1]\n",
    "    K[ind2*2+1,ind2*2+0] += Ke_array[i][3,2]\n",
    "    K[ind2*2+1,ind2*2+1] += Ke_array[i][3,3]\n",
    "print('K: global stiffness')\n",
    "print(K)"
   ]
  },
  {
   "cell_type": "code",
   "execution_count": 6,
   "metadata": {},
   "outputs": [
    {
     "name": "stdout",
     "output_type": "stream",
     "text": [
      "K_E\n",
      "[[ 3.536e+09 -3.536e+09  0.000e+00  0.000e+00  0.000e+00]\n",
      " [-3.536e+09  3.536e+09  0.000e+00  0.000e+00  0.000e+00]\n",
      " [ 0.000e+00  0.000e+00  7.499e-23 -1.225e-06  0.000e+00]\n",
      " [ 0.000e+00  0.000e+00 -1.225e-06  2.000e+10  0.000e+00]\n",
      " [ 0.000e+00  0.000e+00  0.000e+00  0.000e+00  3.536e+09]]\n",
      "K_F\n",
      "[[ 3.536e+09 -3.536e+09 -3.536e+09]\n",
      " [-3.536e+09  7.071e+09 -1.431e-06]\n",
      " [-3.536e+09 -1.431e-06  2.707e+10]]\n",
      "K_EF\n",
      "[[ 0.000e+00 -3.536e+09  3.536e+09]\n",
      " [ 0.000e+00  3.536e+09 -3.536e+09]\n",
      " [ 0.000e+00 -7.499e-23  1.225e-06]\n",
      " [ 0.000e+00  1.225e-06 -2.000e+10]\n",
      " [ 3.536e+09 -3.536e+09 -3.536e+09]]\n"
     ]
    }
   ],
   "source": [
    "## To solve the problem with matrix partitioning we need to be careful because the node 3 has free 'x' but constrained 'y'\n",
    "## To do the partition we need to shift the corresponding rows and columns first and then partition \n",
    "\n",
    "#swap rows\n",
    "aux = K[4,:] # storing the row corresponding to the x-equation of node 3\n",
    "K[4,:] = K[5,:] # replacing the x-row of node 3 with the y-equation of node 3\n",
    "K[5,:] = aux # and replace the y-equation of node 3 with the x-equation\n",
    "\n",
    "#swap columns \n",
    "aux = K[:,4] # storing the column corresponding to the ux of node 3\n",
    "K[:,4] = K[:,5] # replacing the ux node 3 with the uy of node 3\n",
    "K[:,5] = aux # and replace the uy of node 3 with the ux of node 3\n",
    "\n",
    "# solving the system with matrix partitioning, partion the K\n",
    "n_E = 5\n",
    "n_F = 3\n",
    "K_E = K[0:n_E,0:n_E]\n",
    "K_F = K[n_E:,n_E:]\n",
    "K_EF = K[0:n_E,n_E:]\n",
    "print('K_E')\n",
    "print(K_E)\n",
    "print('K_F')\n",
    "print(K_F)\n",
    "print('K_EF')\n",
    "print(K_EF)"
   ]
  },
  {
   "cell_type": "code",
   "execution_count": 11,
   "metadata": {},
   "outputs": [
    {
     "name": "stdout",
     "output_type": "stream",
     "text": [
      "[3.828e-07 3.328e-07 5.000e-08]\n"
     ]
    }
   ],
   "source": [
    "# known displacements\n",
    "d_E = np.zeros((n_E))\n",
    "# known external forces\n",
    "# remember now this corresponds to [node3x, node4x, node4y]\n",
    "F_F = np.array([0,1e3,0])\n",
    "# solving A\\b\n",
    "d_F = np.linalg.solve(K_F,F_F- np.dot(K_EF.transpose(),d_E))\n",
    "print(d_F)"
   ]
  },
  {
   "cell_type": "code",
   "execution_count": 10,
   "metadata": {},
   "outputs": [
    {
     "name": "stdout",
     "output_type": "stream",
     "text": [
      "141421.3745329533\n",
      "-49999.94462906443\n",
      "0.0010990647210786426\n"
     ]
    }
   ],
   "source": [
    "# to get the stress we need strain of each bar \n",
    "l1 = np.sqrt(2)\n",
    "l2 = 1\n",
    "l3 = np.sqrt(2)\n",
    "l1new = np.sqrt( (d_F[1]+1)**2 + (d_F[2]-1)**2)\n",
    "l2new = np.sqrt( (d_F[1])**2 + (d_F[2]-1)**2)\n",
    "l3new = np.sqrt( (d_F[1]-1-d_F[0])**2 + (d_F[2]-1)**2)\n",
    "sigma1 = (l1new-l1)/l1*E\n",
    "sigma2 = (l2new-l2)/l2*E\n",
    "sigma3 = (l3new-l3)/l3*E\n",
    "print(sigma1)\n",
    "print(sigma2)\n",
    "print(sigma3)"
   ]
  },
  {
   "cell_type": "code",
   "execution_count": null,
   "metadata": {},
   "outputs": [],
   "source": []
  },
  {
   "cell_type": "code",
   "execution_count": null,
   "metadata": {},
   "outputs": [],
   "source": []
  }
 ],
 "metadata": {
  "kernelspec": {
   "display_name": "Python 2",
   "language": "python",
   "name": "python2"
  },
  "language_info": {
   "codemirror_mode": {
    "name": "ipython",
    "version": 2
   },
   "file_extension": ".py",
   "mimetype": "text/x-python",
   "name": "python",
   "nbconvert_exporter": "python",
   "pygments_lexer": "ipython2",
   "version": "2.7.15"
  }
 },
 "nbformat": 4,
 "nbformat_minor": 2
}
