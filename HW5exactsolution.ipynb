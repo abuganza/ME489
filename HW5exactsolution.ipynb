{
 "cells": [
  {
   "cell_type": "code",
   "execution_count": 1,
   "metadata": {},
   "outputs": [
    {
     "data": {
      "text/plain": [
       "u'%.5f'"
      ]
     },
     "execution_count": 1,
     "metadata": {},
     "output_type": "execute_result"
    }
   ],
   "source": [
    "import numpy as np\n",
    "import sympy as sp\n",
    "import matplotlib\n",
    "import random\n",
    "import matplotlib.pyplot as plt\n",
    "import matplotlib.tri as mtri\n",
    "%matplotlib inline \n",
    "%precision 5"
   ]
  },
  {
   "cell_type": "code",
   "execution_count": 2,
   "metadata": {
    "collapsed": true
   },
   "outputs": [],
   "source": [
    "## Read in a mesh \n",
    "meshfile = open(\"PlateMeshOrdered.txt\",'r').readlines()\n",
    "n_node = int(meshfile[1])\n",
    "node_X = np.zeros((n_node,2))\n",
    "for i in range(n_node):\n",
    "    aux = meshfile[2+i].split()\n",
    "    node_X[i,0] = float(aux[0])\n",
    "    node_X[i,1] = float(aux[1])\n",
    "n_elem = int(meshfile[3+n_node])\n",
    "elements = np.zeros((n_elem,3),dtype=int)\n",
    "for i in range(n_elem):\n",
    "    aux = meshfile[4+n_node+i].split()\n",
    "    elements[i,0] = int(aux[0])\n",
    "    elements[i,1] = int(aux[1])\n",
    "    elements[i,2] = int(aux[2])"
   ]
  },
  {
   "cell_type": "code",
   "execution_count": 3,
   "metadata": {
    "collapsed": true
   },
   "outputs": [],
   "source": [
    "## function of exact solution\n",
    "def exact_solution(x,y):\n",
    "    a = 0.25\n",
    "    b = 1.\n",
    "    return x**2+y**2-2*a*np.sqrt(x**2+y**2)+a**2"
   ]
  },
  {
   "cell_type": "code",
   "execution_count": 4,
   "metadata": {
    "collapsed": true
   },
   "outputs": [],
   "source": [
    "##  Fill out the nodal values with the exact solution\n",
    "d_exact = np.zeros((n_node))\n",
    "for i in range(n_node):\n",
    "    d_exact[i] = exact_solution(node_X[i,0],node_X[i,1])"
   ]
  },
  {
   "cell_type": "code",
   "execution_count": 5,
   "metadata": {},
   "outputs": [
    {
     "data": {
      "text/plain": [
       "<matplotlib.colorbar.Colorbar at 0x11bedfa90>"
      ]
     },
     "execution_count": 5,
     "metadata": {},
     "output_type": "execute_result"
    },
    {
     "data": {
      "image/png": "[encoded data removed]",
      "text/plain": [
       "<matplotlib.figure.Figure at 0x1115dd990>"
      ]
     },
     "metadata": {},
     "output_type": "display_data"
    }
   ],
   "source": [
    "## Plot\n",
    "plt.figure(figsize=(10,10))\n",
    "plt.gca().set_aspect('equal')\n",
    "levels = [-0.00001, 0.2, 0.4, 0.6, 0.8, 1., 1.2, 1.4]\n",
    "plt.tricontourf(node_X[:,0],node_X[:,1] ,  elements-1, d_exact, levels)\n",
    "plt.colorbar()"
   ]
  },
  {
   "cell_type": "code",
   "execution_count": null,
   "metadata": {
    "collapsed": true
   },
   "outputs": [],
   "source": []
  }
 ],
 "metadata": {
  "kernelspec": {
   "display_name": "Python 2",
   "language": "python",
   "name": "python2"
  },
  "language_info": {
   "codemirror_mode": {
    "name": "ipython",
    "version": 2
   },
   "file_extension": ".py",
   "mimetype": "text/x-python",
   "name": "python",
   "nbconvert_exporter": "python",
   "pygments_lexer": "ipython2",
   "version": "2.7.13"
  }
 },
 "nbformat": 4,
 "nbformat_minor": 2
}
